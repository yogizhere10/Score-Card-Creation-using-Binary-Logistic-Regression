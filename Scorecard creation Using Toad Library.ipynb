{
 "cells": [
  {
   "cell_type": "markdown",
   "id": "1b92017b",
   "metadata": {},
   "source": [
    "# Scorecard creation using Inbuilt library"
   ]
  },
  {
   "cell_type": "code",
   "execution_count": 1,
   "id": "8bfe9219",
   "metadata": {},
   "outputs": [],
   "source": [
    "import pandas as pd\n",
    "import numpy as np\n",
    "\n",
    "pd.options.display.max_columns=None\n",
    "\n",
    "from IPython.display import display\n",
    "\n",
    "import matplotlib.pyplot as plt\n",
    "import seaborn as sns\n",
    "import plotly.express as px\n",
    "\n",
    "import warnings\n",
    "warnings.filterwarnings(\"ignore\")"
   ]
  },
  {
   "cell_type": "code",
   "execution_count": 2,
   "id": "b038d238",
   "metadata": {},
   "outputs": [],
   "source": [
    "import toad"
   ]
  },
  {
   "cell_type": "code",
   "execution_count": 3,
   "id": "cf1b2ccc",
   "metadata": {},
   "outputs": [],
   "source": [
    "df = pd.read_csv(\"loan_data_2007_2014.csv\")"
   ]
  },
  {
   "cell_type": "code",
   "execution_count": 4,
   "id": "ae49aac5",
   "metadata": {},
   "outputs": [
    {
     "data": {
      "text/html": [
       "<div>\n",
       "<style scoped>\n",
       "    .dataframe tbody tr th:only-of-type {\n",
       "        vertical-align: middle;\n",
       "    }\n",
       "\n",
       "    .dataframe tbody tr th {\n",
       "        vertical-align: top;\n",
       "    }\n",
       "\n",
       "    .dataframe thead th {\n",
       "        text-align: right;\n",
       "    }\n",
       "</style>\n",
       "<table border=\"1\" class=\"dataframe\">\n",
       "  <thead>\n",
       "    <tr style=\"text-align: right;\">\n",
       "      <th></th>\n",
       "      <th>loan_amnt</th>\n",
       "      <th>funded_amnt</th>\n",
       "      <th>funded_amnt_inv</th>\n",
       "      <th>term</th>\n",
       "      <th>int_rate</th>\n",
       "      <th>installment</th>\n",
       "      <th>grade</th>\n",
       "      <th>sub_grade</th>\n",
       "      <th>emp_title</th>\n",
       "      <th>emp_length</th>\n",
       "      <th>home_ownership</th>\n",
       "      <th>annual_inc</th>\n",
       "      <th>verification_status</th>\n",
       "      <th>issue_d</th>\n",
       "      <th>loan_status</th>\n",
       "      <th>pymnt_plan</th>\n",
       "      <th>purpose</th>\n",
       "      <th>title</th>\n",
       "      <th>zip_code</th>\n",
       "      <th>addr_state</th>\n",
       "      <th>dti</th>\n",
       "      <th>delinq_2yrs</th>\n",
       "      <th>earliest_cr_line</th>\n",
       "      <th>inq_last_6mths</th>\n",
       "      <th>mths_since_last_delinq</th>\n",
       "      <th>mths_since_last_record</th>\n",
       "      <th>open_acc</th>\n",
       "      <th>pub_rec</th>\n",
       "      <th>revol_bal</th>\n",
       "      <th>revol_util</th>\n",
       "      <th>total_acc</th>\n",
       "      <th>initial_list_status</th>\n",
       "      <th>out_prncp</th>\n",
       "      <th>out_prncp_inv</th>\n",
       "      <th>total_pymnt</th>\n",
       "      <th>total_pymnt_inv</th>\n",
       "      <th>total_rec_prncp</th>\n",
       "      <th>total_rec_int</th>\n",
       "      <th>total_rec_late_fee</th>\n",
       "      <th>recoveries</th>\n",
       "      <th>collection_recovery_fee</th>\n",
       "      <th>last_pymnt_d</th>\n",
       "      <th>last_pymnt_amnt</th>\n",
       "      <th>next_pymnt_d</th>\n",
       "      <th>last_credit_pull_d</th>\n",
       "      <th>collections_12_mths_ex_med</th>\n",
       "      <th>mths_since_last_major_derog</th>\n",
       "      <th>policy_code</th>\n",
       "      <th>application_type</th>\n",
       "      <th>annual_inc_joint</th>\n",
       "      <th>dti_joint</th>\n",
       "      <th>verification_status_joint</th>\n",
       "      <th>acc_now_delinq</th>\n",
       "      <th>tot_coll_amt</th>\n",
       "      <th>tot_cur_bal</th>\n",
       "      <th>open_acc_6m</th>\n",
       "      <th>open_il_6m</th>\n",
       "      <th>open_il_12m</th>\n",
       "      <th>open_il_24m</th>\n",
       "      <th>mths_since_rcnt_il</th>\n",
       "      <th>total_bal_il</th>\n",
       "      <th>il_util</th>\n",
       "      <th>open_rv_12m</th>\n",
       "      <th>open_rv_24m</th>\n",
       "      <th>max_bal_bc</th>\n",
       "      <th>all_util</th>\n",
       "      <th>total_rev_hi_lim</th>\n",
       "      <th>inq_fi</th>\n",
       "      <th>total_cu_tl</th>\n",
       "      <th>inq_last_12m</th>\n",
       "    </tr>\n",
       "  </thead>\n",
       "  <tbody>\n",
       "    <tr>\n",
       "      <th>0</th>\n",
       "      <td>5000</td>\n",
       "      <td>5000</td>\n",
       "      <td>4975.0</td>\n",
       "      <td>36 months</td>\n",
       "      <td>10.65</td>\n",
       "      <td>162.87</td>\n",
       "      <td>B</td>\n",
       "      <td>B2</td>\n",
       "      <td>NaN</td>\n",
       "      <td>10+ years</td>\n",
       "      <td>RENT</td>\n",
       "      <td>24000.0</td>\n",
       "      <td>Verified</td>\n",
       "      <td>Dec-11</td>\n",
       "      <td>Fully Paid</td>\n",
       "      <td>n</td>\n",
       "      <td>credit_card</td>\n",
       "      <td>Computer</td>\n",
       "      <td>860xx</td>\n",
       "      <td>AZ</td>\n",
       "      <td>27.65</td>\n",
       "      <td>0.0</td>\n",
       "      <td>Jan-85</td>\n",
       "      <td>1.0</td>\n",
       "      <td>NaN</td>\n",
       "      <td>NaN</td>\n",
       "      <td>3.0</td>\n",
       "      <td>0.0</td>\n",
       "      <td>13648</td>\n",
       "      <td>83.7</td>\n",
       "      <td>9.0</td>\n",
       "      <td>f</td>\n",
       "      <td>0.0</td>\n",
       "      <td>0.0</td>\n",
       "      <td>5861.071414</td>\n",
       "      <td>5831.78</td>\n",
       "      <td>5000.00</td>\n",
       "      <td>861.07</td>\n",
       "      <td>0.0</td>\n",
       "      <td>0.00</td>\n",
       "      <td>0.00</td>\n",
       "      <td>Jan-15</td>\n",
       "      <td>171.62</td>\n",
       "      <td>NaN</td>\n",
       "      <td>Jan-16</td>\n",
       "      <td>0.0</td>\n",
       "      <td>NaN</td>\n",
       "      <td>1</td>\n",
       "      <td>INDIVIDUAL</td>\n",
       "      <td>NaN</td>\n",
       "      <td>NaN</td>\n",
       "      <td>NaN</td>\n",
       "      <td>0.0</td>\n",
       "      <td>NaN</td>\n",
       "      <td>NaN</td>\n",
       "      <td>NaN</td>\n",
       "      <td>NaN</td>\n",
       "      <td>NaN</td>\n",
       "      <td>NaN</td>\n",
       "      <td>NaN</td>\n",
       "      <td>NaN</td>\n",
       "      <td>NaN</td>\n",
       "      <td>NaN</td>\n",
       "      <td>NaN</td>\n",
       "      <td>NaN</td>\n",
       "      <td>NaN</td>\n",
       "      <td>NaN</td>\n",
       "      <td>NaN</td>\n",
       "      <td>NaN</td>\n",
       "      <td>NaN</td>\n",
       "    </tr>\n",
       "    <tr>\n",
       "      <th>1</th>\n",
       "      <td>2500</td>\n",
       "      <td>2500</td>\n",
       "      <td>2500.0</td>\n",
       "      <td>60 months</td>\n",
       "      <td>15.27</td>\n",
       "      <td>59.83</td>\n",
       "      <td>C</td>\n",
       "      <td>C4</td>\n",
       "      <td>Ryder</td>\n",
       "      <td>&lt; 1 year</td>\n",
       "      <td>RENT</td>\n",
       "      <td>30000.0</td>\n",
       "      <td>Source Verified</td>\n",
       "      <td>Dec-11</td>\n",
       "      <td>Charged Off</td>\n",
       "      <td>n</td>\n",
       "      <td>car</td>\n",
       "      <td>bike</td>\n",
       "      <td>309xx</td>\n",
       "      <td>GA</td>\n",
       "      <td>1.00</td>\n",
       "      <td>0.0</td>\n",
       "      <td>Apr-99</td>\n",
       "      <td>5.0</td>\n",
       "      <td>NaN</td>\n",
       "      <td>NaN</td>\n",
       "      <td>3.0</td>\n",
       "      <td>0.0</td>\n",
       "      <td>1687</td>\n",
       "      <td>9.4</td>\n",
       "      <td>4.0</td>\n",
       "      <td>f</td>\n",
       "      <td>0.0</td>\n",
       "      <td>0.0</td>\n",
       "      <td>1008.710000</td>\n",
       "      <td>1008.71</td>\n",
       "      <td>456.46</td>\n",
       "      <td>435.17</td>\n",
       "      <td>0.0</td>\n",
       "      <td>117.08</td>\n",
       "      <td>1.11</td>\n",
       "      <td>Apr-13</td>\n",
       "      <td>119.66</td>\n",
       "      <td>NaN</td>\n",
       "      <td>Sep-13</td>\n",
       "      <td>0.0</td>\n",
       "      <td>NaN</td>\n",
       "      <td>1</td>\n",
       "      <td>INDIVIDUAL</td>\n",
       "      <td>NaN</td>\n",
       "      <td>NaN</td>\n",
       "      <td>NaN</td>\n",
       "      <td>0.0</td>\n",
       "      <td>NaN</td>\n",
       "      <td>NaN</td>\n",
       "      <td>NaN</td>\n",
       "      <td>NaN</td>\n",
       "      <td>NaN</td>\n",
       "      <td>NaN</td>\n",
       "      <td>NaN</td>\n",
       "      <td>NaN</td>\n",
       "      <td>NaN</td>\n",
       "      <td>NaN</td>\n",
       "      <td>NaN</td>\n",
       "      <td>NaN</td>\n",
       "      <td>NaN</td>\n",
       "      <td>NaN</td>\n",
       "      <td>NaN</td>\n",
       "      <td>NaN</td>\n",
       "      <td>NaN</td>\n",
       "    </tr>\n",
       "  </tbody>\n",
       "</table>\n",
       "</div>"
      ],
      "text/plain": [
       "   loan_amnt  funded_amnt  funded_amnt_inv        term  int_rate  installment  \\\n",
       "0       5000         5000           4975.0   36 months     10.65       162.87   \n",
       "1       2500         2500           2500.0   60 months     15.27        59.83   \n",
       "\n",
       "  grade sub_grade emp_title emp_length home_ownership  annual_inc  \\\n",
       "0     B        B2       NaN  10+ years           RENT     24000.0   \n",
       "1     C        C4     Ryder   < 1 year           RENT     30000.0   \n",
       "\n",
       "  verification_status issue_d  loan_status pymnt_plan      purpose     title  \\\n",
       "0            Verified  Dec-11   Fully Paid          n  credit_card  Computer   \n",
       "1     Source Verified  Dec-11  Charged Off          n          car      bike   \n",
       "\n",
       "  zip_code addr_state    dti  delinq_2yrs earliest_cr_line  inq_last_6mths  \\\n",
       "0    860xx         AZ  27.65          0.0           Jan-85             1.0   \n",
       "1    309xx         GA   1.00          0.0           Apr-99             5.0   \n",
       "\n",
       "   mths_since_last_delinq  mths_since_last_record  open_acc  pub_rec  \\\n",
       "0                     NaN                     NaN       3.0      0.0   \n",
       "1                     NaN                     NaN       3.0      0.0   \n",
       "\n",
       "   revol_bal  revol_util  total_acc initial_list_status  out_prncp  \\\n",
       "0      13648        83.7        9.0                   f        0.0   \n",
       "1       1687         9.4        4.0                   f        0.0   \n",
       "\n",
       "   out_prncp_inv  total_pymnt  total_pymnt_inv  total_rec_prncp  \\\n",
       "0            0.0  5861.071414          5831.78          5000.00   \n",
       "1            0.0  1008.710000          1008.71           456.46   \n",
       "\n",
       "   total_rec_int  total_rec_late_fee  recoveries  collection_recovery_fee  \\\n",
       "0         861.07                 0.0        0.00                     0.00   \n",
       "1         435.17                 0.0      117.08                     1.11   \n",
       "\n",
       "  last_pymnt_d  last_pymnt_amnt next_pymnt_d last_credit_pull_d  \\\n",
       "0       Jan-15           171.62          NaN             Jan-16   \n",
       "1       Apr-13           119.66          NaN             Sep-13   \n",
       "\n",
       "   collections_12_mths_ex_med  mths_since_last_major_derog  policy_code  \\\n",
       "0                         0.0                          NaN            1   \n",
       "1                         0.0                          NaN            1   \n",
       "\n",
       "  application_type  annual_inc_joint  dti_joint  verification_status_joint  \\\n",
       "0       INDIVIDUAL               NaN        NaN                        NaN   \n",
       "1       INDIVIDUAL               NaN        NaN                        NaN   \n",
       "\n",
       "   acc_now_delinq  tot_coll_amt  tot_cur_bal  open_acc_6m  open_il_6m  \\\n",
       "0             0.0           NaN          NaN          NaN         NaN   \n",
       "1             0.0           NaN          NaN          NaN         NaN   \n",
       "\n",
       "   open_il_12m  open_il_24m  mths_since_rcnt_il  total_bal_il  il_util  \\\n",
       "0          NaN          NaN                 NaN           NaN      NaN   \n",
       "1          NaN          NaN                 NaN           NaN      NaN   \n",
       "\n",
       "   open_rv_12m  open_rv_24m  max_bal_bc  all_util  total_rev_hi_lim  inq_fi  \\\n",
       "0          NaN          NaN         NaN       NaN               NaN     NaN   \n",
       "1          NaN          NaN         NaN       NaN               NaN     NaN   \n",
       "\n",
       "   total_cu_tl  inq_last_12m  \n",
       "0          NaN           NaN  \n",
       "1          NaN           NaN  "
      ]
     },
     "execution_count": 4,
     "metadata": {},
     "output_type": "execute_result"
    }
   ],
   "source": [
    "df.drop([\"Unnamed: 0\",'id','member_id' ,'url','desc'], axis = 1, inplace = True)\n",
    "df.head(2)"
   ]
  },
  {
   "cell_type": "code",
   "execution_count": 5,
   "id": "6b5614fd",
   "metadata": {},
   "outputs": [
    {
     "data": {
      "text/plain": [
       "(466285, 70)"
      ]
     },
     "execution_count": 5,
     "metadata": {},
     "output_type": "execute_result"
    }
   ],
   "source": [
    "df.shape"
   ]
  },
  {
   "cell_type": "code",
   "execution_count": 6,
   "id": "0d524494",
   "metadata": {},
   "outputs": [
    {
     "data": {
      "text/plain": [
       "(50001, 70)"
      ]
     },
     "execution_count": 6,
     "metadata": {},
     "output_type": "execute_result"
    }
   ],
   "source": [
    "df = df.loc[: 50000,:]\n",
    "df.shape"
   ]
  },
  {
   "cell_type": "code",
   "execution_count": 7,
   "id": "2fd34bea",
   "metadata": {},
   "outputs": [
    {
     "data": {
      "text/html": [
       "<div>\n",
       "<style scoped>\n",
       "    .dataframe tbody tr th:only-of-type {\n",
       "        vertical-align: middle;\n",
       "    }\n",
       "\n",
       "    .dataframe tbody tr th {\n",
       "        vertical-align: top;\n",
       "    }\n",
       "\n",
       "    .dataframe thead th {\n",
       "        text-align: right;\n",
       "    }\n",
       "</style>\n",
       "<table border=\"1\" class=\"dataframe\">\n",
       "  <thead>\n",
       "    <tr style=\"text-align: right;\">\n",
       "      <th></th>\n",
       "      <th>type</th>\n",
       "      <th>size</th>\n",
       "      <th>missing</th>\n",
       "      <th>unique</th>\n",
       "      <th>mean_or_top1</th>\n",
       "      <th>std_or_top2</th>\n",
       "      <th>min_or_top3</th>\n",
       "      <th>1%_or_top4</th>\n",
       "      <th>10%_or_top5</th>\n",
       "      <th>50%_or_bottom5</th>\n",
       "      <th>75%_or_bottom4</th>\n",
       "      <th>90%_or_bottom3</th>\n",
       "      <th>99%_or_bottom2</th>\n",
       "      <th>max_or_bottom1</th>\n",
       "    </tr>\n",
       "  </thead>\n",
       "  <tbody>\n",
       "    <tr>\n",
       "      <th>loan_amnt</th>\n",
       "      <td>int64</td>\n",
       "      <td>50001</td>\n",
       "      <td>0.00%</td>\n",
       "      <td>950</td>\n",
       "      <td>11644.930101</td>\n",
       "      <td>7676.575478</td>\n",
       "      <td>500.0</td>\n",
       "      <td>1200.0</td>\n",
       "      <td>3400.0</td>\n",
       "      <td>10000.0</td>\n",
       "      <td>15250.0</td>\n",
       "      <td>24000.0</td>\n",
       "      <td>35000.0</td>\n",
       "      <td>35000.0</td>\n",
       "    </tr>\n",
       "    <tr>\n",
       "      <th>funded_amnt</th>\n",
       "      <td>int64</td>\n",
       "      <td>50001</td>\n",
       "      <td>0.00%</td>\n",
       "      <td>1077</td>\n",
       "      <td>11416.830663</td>\n",
       "      <td>7478.137771</td>\n",
       "      <td>500.0</td>\n",
       "      <td>1200.0</td>\n",
       "      <td>3300.0</td>\n",
       "      <td>10000.0</td>\n",
       "      <td>15000.0</td>\n",
       "      <td>22025.0</td>\n",
       "      <td>35000.0</td>\n",
       "      <td>35000.0</td>\n",
       "    </tr>\n",
       "    <tr>\n",
       "      <th>funded_amnt_inv</th>\n",
       "      <td>float64</td>\n",
       "      <td>50001</td>\n",
       "      <td>0.00%</td>\n",
       "      <td>9308</td>\n",
       "      <td>10835.397185</td>\n",
       "      <td>7514.347754</td>\n",
       "      <td>0.0</td>\n",
       "      <td>375.0</td>\n",
       "      <td>2800.0</td>\n",
       "      <td>9500.0</td>\n",
       "      <td>14975.0</td>\n",
       "      <td>21375.0</td>\n",
       "      <td>34975.0</td>\n",
       "      <td>35000.0</td>\n",
       "    </tr>\n",
       "    <tr>\n",
       "      <th>term</th>\n",
       "      <td>object</td>\n",
       "      <td>50001</td>\n",
       "      <td>0.00%</td>\n",
       "      <td>2</td>\n",
       "      <td>36 months:74.02%</td>\n",
       "      <td>60 months:25.98%</td>\n",
       "      <td>None</td>\n",
       "      <td>None</td>\n",
       "      <td>None</td>\n",
       "      <td>None</td>\n",
       "      <td>None</td>\n",
       "      <td>None</td>\n",
       "      <td>36 months:74.02%</td>\n",
       "      <td>60 months:25.98%</td>\n",
       "    </tr>\n",
       "    <tr>\n",
       "      <th>int_rate</th>\n",
       "      <td>float64</td>\n",
       "      <td>50001</td>\n",
       "      <td>0.00%</td>\n",
       "      <td>419</td>\n",
       "      <td>12.499102</td>\n",
       "      <td>3.893086</td>\n",
       "      <td>5.42</td>\n",
       "      <td>5.42</td>\n",
       "      <td>7.49</td>\n",
       "      <td>12.42</td>\n",
       "      <td>14.98</td>\n",
       "      <td>17.57</td>\n",
       "      <td>22.4</td>\n",
       "      <td>26.06</td>\n",
       "    </tr>\n",
       "    <tr>\n",
       "      <th>installment</th>\n",
       "      <td>float64</td>\n",
       "      <td>50001</td>\n",
       "      <td>0.00%</td>\n",
       "      <td>18578</td>\n",
       "      <td>342.396708</td>\n",
       "      <td>221.41981</td>\n",
       "      <td>15.67</td>\n",
       "      <td>38.54</td>\n",
       "      <td>102.86</td>\n",
       "      <td>298.67</td>\n",
       "      <td>460.56</td>\n",
       "      <td>659.37</td>\n",
       "      <td>1025.04</td>\n",
       "      <td>1407.01</td>\n",
       "    </tr>\n",
       "    <tr>\n",
       "      <th>grade</th>\n",
       "      <td>object</td>\n",
       "      <td>50001</td>\n",
       "      <td>0.00%</td>\n",
       "      <td>7</td>\n",
       "      <td>B:29.05%</td>\n",
       "      <td>A:22.58%</td>\n",
       "      <td>C:21.79%</td>\n",
       "      <td>D:14.64%</td>\n",
       "      <td>E:7.86%</td>\n",
       "      <td>C:21.79%</td>\n",
       "      <td>D:14.64%</td>\n",
       "      <td>E:7.86%</td>\n",
       "      <td>F:2.96%</td>\n",
       "      <td>G:1.12%</td>\n",
       "    </tr>\n",
       "    <tr>\n",
       "      <th>sub_grade</th>\n",
       "      <td>object</td>\n",
       "      <td>50001</td>\n",
       "      <td>0.00%</td>\n",
       "      <td>35</td>\n",
       "      <td>B3:6.96%</td>\n",
       "      <td>B5:6.53%</td>\n",
       "      <td>A4:6.41%</td>\n",
       "      <td>A5:6.32%</td>\n",
       "      <td>B4:6.08%</td>\n",
       "      <td>G1:0.32%</td>\n",
       "      <td>G2:0.24%</td>\n",
       "      <td>G4:0.20%</td>\n",
       "      <td>G3:0.18%</td>\n",
       "      <td>G5:0.18%</td>\n",
       "    </tr>\n",
       "    <tr>\n",
       "      <th>emp_title</th>\n",
       "      <td>object</td>\n",
       "      <td>50001</td>\n",
       "      <td>6.17%</td>\n",
       "      <td>35068</td>\n",
       "      <td>Teacher:0.34%</td>\n",
       "      <td>US Army:0.28%</td>\n",
       "      <td>Bank of America:0.23%</td>\n",
       "      <td>Manager:0.20%</td>\n",
       "      <td>IBM:0.14%</td>\n",
       "      <td>Video Teleconferencing Technician :0.00%</td>\n",
       "      <td>Rochdale Investment Management:0.00%</td>\n",
       "      <td>D&amp;D cabinets:0.00%</td>\n",
       "      <td>Hewlett Foundation:0.00%</td>\n",
       "      <td>Wagon Mound Schools:0.00%</td>\n",
       "    </tr>\n",
       "    <tr>\n",
       "      <th>emp_length</th>\n",
       "      <td>object</td>\n",
       "      <td>50001</td>\n",
       "      <td>2.88%</td>\n",
       "      <td>11</td>\n",
       "      <td>10+ years:23.87%</td>\n",
       "      <td>&lt; 1 year:11.29%</td>\n",
       "      <td>2 years:10.78%</td>\n",
       "      <td>3 years:9.90%</td>\n",
       "      <td>1 year:8.06%</td>\n",
       "      <td>5 years:7.94%</td>\n",
       "      <td>6 years:5.52%</td>\n",
       "      <td>7 years:4.59%</td>\n",
       "      <td>8 years:3.87%</td>\n",
       "      <td>9 years:3.28%</td>\n",
       "    </tr>\n",
       "    <tr>\n",
       "      <th>home_ownership</th>\n",
       "      <td>object</td>\n",
       "      <td>50001</td>\n",
       "      <td>0.00%</td>\n",
       "      <td>5</td>\n",
       "      <td>RENT:45.99%</td>\n",
       "      <td>MORTGAGE:45.91%</td>\n",
       "      <td>OWN:7.82%</td>\n",
       "      <td>OTHER:0.27%</td>\n",
       "      <td>NONE:0.02%</td>\n",
       "      <td>RENT:45.99%</td>\n",
       "      <td>MORTGAGE:45.91%</td>\n",
       "      <td>OWN:7.82%</td>\n",
       "      <td>OTHER:0.27%</td>\n",
       "      <td>NONE:0.02%</td>\n",
       "    </tr>\n",
       "    <tr>\n",
       "      <th>annual_inc</th>\n",
       "      <td>float64</td>\n",
       "      <td>50001</td>\n",
       "      <td>0.01%</td>\n",
       "      <td>6185</td>\n",
       "      <td>70202.901597</td>\n",
       "      <td>61972.633442</td>\n",
       "      <td>1896.0</td>\n",
       "      <td>14400.0</td>\n",
       "      <td>30000.0</td>\n",
       "      <td>60000.0</td>\n",
       "      <td>84996.0</td>\n",
       "      <td>120000.0</td>\n",
       "      <td>243616.0</td>\n",
       "      <td>6000000.0</td>\n",
       "    </tr>\n",
       "    <tr>\n",
       "      <th>verification_status</th>\n",
       "      <td>object</td>\n",
       "      <td>50001</td>\n",
       "      <td>0.00%</td>\n",
       "      <td>3</td>\n",
       "      <td>Not Verified:41.41%</td>\n",
       "      <td>Verified:33.18%</td>\n",
       "      <td>Source Verified:25.42%</td>\n",
       "      <td>None</td>\n",
       "      <td>None</td>\n",
       "      <td>None</td>\n",
       "      <td>None</td>\n",
       "      <td>Not Verified:41.41%</td>\n",
       "      <td>Verified:33.18%</td>\n",
       "      <td>Source Verified:25.42%</td>\n",
       "    </tr>\n",
       "    <tr>\n",
       "      <th>issue_d</th>\n",
       "      <td>object</td>\n",
       "      <td>50001</td>\n",
       "      <td>0.00%</td>\n",
       "      <td>56</td>\n",
       "      <td>Dec-13:14.93%</td>\n",
       "      <td>Dec-11:4.53%</td>\n",
       "      <td>Nov-11:4.46%</td>\n",
       "      <td>Oct-11:4.24%</td>\n",
       "      <td>Sep-11:4.13%</td>\n",
       "      <td>Aug-07:0.15%</td>\n",
       "      <td>Jul-07:0.13%</td>\n",
       "      <td>Sep-08:0.11%</td>\n",
       "      <td>Sep-07:0.11%</td>\n",
       "      <td>Jun-07:0.05%</td>\n",
       "    </tr>\n",
       "    <tr>\n",
       "      <th>loan_status</th>\n",
       "      <td>object</td>\n",
       "      <td>50001</td>\n",
       "      <td>0.00%</td>\n",
       "      <td>9</td>\n",
       "      <td>Fully Paid:69.71%</td>\n",
       "      <td>Charged Off:12.39%</td>\n",
       "      <td>Current:11.80%</td>\n",
       "      <td>Does not meet the credit policy. Status:Fully ...</td>\n",
       "      <td>Does not meet the credit policy. Status:Charge...</td>\n",
       "      <td>Does not meet the credit policy. Status:Charge...</td>\n",
       "      <td>Late (31-120 days):0.35%</td>\n",
       "      <td>In Grace Period:0.14%</td>\n",
       "      <td>Late (16-30 days):0.07%</td>\n",
       "      <td>Default:0.04%</td>\n",
       "    </tr>\n",
       "    <tr>\n",
       "      <th>pymnt_plan</th>\n",
       "      <td>object</td>\n",
       "      <td>50001</td>\n",
       "      <td>0.00%</td>\n",
       "      <td>2</td>\n",
       "      <td>n:99.99%</td>\n",
       "      <td>y:0.01%</td>\n",
       "      <td>None</td>\n",
       "      <td>None</td>\n",
       "      <td>None</td>\n",
       "      <td>None</td>\n",
       "      <td>None</td>\n",
       "      <td>None</td>\n",
       "      <td>n:99.99%</td>\n",
       "      <td>y:0.01%</td>\n",
       "    </tr>\n",
       "    <tr>\n",
       "      <th>purpose</th>\n",
       "      <td>object</td>\n",
       "      <td>50001</td>\n",
       "      <td>0.00%</td>\n",
       "      <td>14</td>\n",
       "      <td>debt_consolidation:48.31%</td>\n",
       "      <td>credit_card:15.01%</td>\n",
       "      <td>other:9.52%</td>\n",
       "      <td>home_improvement:7.05%</td>\n",
       "      <td>major_purchase:4.85%</td>\n",
       "      <td>moving:1.32%</td>\n",
       "      <td>house:0.90%</td>\n",
       "      <td>vacation:0.86%</td>\n",
       "      <td>educational:0.84%</td>\n",
       "      <td>renewable_energy:0.22%</td>\n",
       "    </tr>\n",
       "    <tr>\n",
       "      <th>title</th>\n",
       "      <td>object</td>\n",
       "      <td>50001</td>\n",
       "      <td>0.03%</td>\n",
       "      <td>23149</td>\n",
       "      <td>Debt Consolidation:5.49%</td>\n",
       "      <td>Debt Consolidation Loan:3.63%</td>\n",
       "      <td>Debt consolidation:2.73%</td>\n",
       "      <td>Consolidation:1.53%</td>\n",
       "      <td>Personal Loan:1.51%</td>\n",
       "      <td>Nichole Credit Card:0.00%</td>\n",
       "      <td>Credit card interest too high!!!:0.00%</td>\n",
       "      <td>Pay debts get saving:0.00%</td>\n",
       "      <td>mark :0.00%</td>\n",
       "      <td>Home Improvement/fence/pool:0.00%</td>\n",
       "    </tr>\n",
       "    <tr>\n",
       "      <th>zip_code</th>\n",
       "      <td>object</td>\n",
       "      <td>50001</td>\n",
       "      <td>0.00%</td>\n",
       "      <td>849</td>\n",
       "      <td>100xx:1.39%</td>\n",
       "      <td>945xx:1.30%</td>\n",
       "      <td>606xx:1.23%</td>\n",
       "      <td>112xx:1.22%</td>\n",
       "      <td>070xx:1.14%</td>\n",
       "      <td>834xx:0.00%</td>\n",
       "      <td>059xx:0.00%</td>\n",
       "      <td>556xx:0.00%</td>\n",
       "      <td>832xx:0.00%</td>\n",
       "      <td>772xx:0.00%</td>\n",
       "    </tr>\n",
       "    <tr>\n",
       "      <th>addr_state</th>\n",
       "      <td>object</td>\n",
       "      <td>50001</td>\n",
       "      <td>0.00%</td>\n",
       "      <td>50</td>\n",
       "      <td>CA:16.87%</td>\n",
       "      <td>NY:9.36%</td>\n",
       "      <td>FL:7.24%</td>\n",
       "      <td>TX:7.10%</td>\n",
       "      <td>NJ:4.55%</td>\n",
       "      <td>MS:0.05%</td>\n",
       "      <td>IA:0.02%</td>\n",
       "      <td>NE:0.02%</td>\n",
       "      <td>ID:0.02%</td>\n",
       "      <td>ME:0.01%</td>\n",
       "    </tr>\n",
       "    <tr>\n",
       "      <th>dti</th>\n",
       "      <td>float64</td>\n",
       "      <td>50001</td>\n",
       "      <td>0.00%</td>\n",
       "      <td>3259</td>\n",
       "      <td>13.978016</td>\n",
       "      <td>7.003511</td>\n",
       "      <td>0.0</td>\n",
       "      <td>0.4</td>\n",
       "      <td>4.43</td>\n",
       "      <td>13.97</td>\n",
       "      <td>19.29</td>\n",
       "      <td>23.14</td>\n",
       "      <td>29.6</td>\n",
       "      <td>34.95</td>\n",
       "    </tr>\n",
       "    <tr>\n",
       "      <th>delinq_2yrs</th>\n",
       "      <td>float64</td>\n",
       "      <td>50001</td>\n",
       "      <td>0.06%</td>\n",
       "      <td>13</td>\n",
       "      <td>0.175758</td>\n",
       "      <td>0.568448</td>\n",
       "      <td>0.0</td>\n",
       "      <td>0.0</td>\n",
       "      <td>0.0</td>\n",
       "      <td>0.0</td>\n",
       "      <td>0.0</td>\n",
       "      <td>1.0</td>\n",
       "      <td>3.0</td>\n",
       "      <td>15.0</td>\n",
       "    </tr>\n",
       "    <tr>\n",
       "      <th>earliest_cr_line</th>\n",
       "      <td>object</td>\n",
       "      <td>50001</td>\n",
       "      <td>0.06%</td>\n",
       "      <td>563</td>\n",
       "      <td>Nov-98:0.90%</td>\n",
       "      <td>Oct-99:0.90%</td>\n",
       "      <td>Oct-00:0.83%</td>\n",
       "      <td>Dec-98:0.82%</td>\n",
       "      <td>Dec-97:0.76%</td>\n",
       "      <td>Jan-60:0.00%</td>\n",
       "      <td>Dec-66:0.00%</td>\n",
       "      <td>Dec-63:0.00%</td>\n",
       "      <td>Mar-63:0.00%</td>\n",
       "      <td>Sep-65:0.00%</td>\n",
       "    </tr>\n",
       "    <tr>\n",
       "      <th>inq_last_6mths</th>\n",
       "      <td>float64</td>\n",
       "      <td>50001</td>\n",
       "      <td>0.06%</td>\n",
       "      <td>28</td>\n",
       "      <td>1.048407</td>\n",
       "      <td>1.468376</td>\n",
       "      <td>0.0</td>\n",
       "      <td>0.0</td>\n",
       "      <td>0.0</td>\n",
       "      <td>1.0</td>\n",
       "      <td>2.0</td>\n",
       "      <td>3.0</td>\n",
       "      <td>6.0</td>\n",
       "      <td>33.0</td>\n",
       "    </tr>\n",
       "    <tr>\n",
       "      <th>mths_since_last_delinq</th>\n",
       "      <td>float64</td>\n",
       "      <td>50001</td>\n",
       "      <td>61.65%</td>\n",
       "      <td>98</td>\n",
       "      <td>34.703713</td>\n",
       "      <td>22.273638</td>\n",
       "      <td>0.0</td>\n",
       "      <td>0.0</td>\n",
       "      <td>6.0</td>\n",
       "      <td>32.0</td>\n",
       "      <td>51.0</td>\n",
       "      <td>68.0</td>\n",
       "      <td>81.0</td>\n",
       "      <td>135.0</td>\n",
       "    </tr>\n",
       "    <tr>\n",
       "      <th>mths_since_last_record</th>\n",
       "      <td>float64</td>\n",
       "      <td>50001</td>\n",
       "      <td>90.59%</td>\n",
       "      <td>120</td>\n",
       "      <td>63.097131</td>\n",
       "      <td>44.388999</td>\n",
       "      <td>0.0</td>\n",
       "      <td>0.0</td>\n",
       "      <td>0.0</td>\n",
       "      <td>84.0</td>\n",
       "      <td>101.0</td>\n",
       "      <td>112.0</td>\n",
       "      <td>118.0</td>\n",
       "      <td>129.0</td>\n",
       "    </tr>\n",
       "    <tr>\n",
       "      <th>open_acc</th>\n",
       "      <td>float64</td>\n",
       "      <td>50001</td>\n",
       "      <td>0.06%</td>\n",
       "      <td>45</td>\n",
       "      <td>9.655227</td>\n",
       "      <td>4.602906</td>\n",
       "      <td>1.0</td>\n",
       "      <td>2.0</td>\n",
       "      <td>4.0</td>\n",
       "      <td>9.0</td>\n",
       "      <td>12.0</td>\n",
       "      <td>16.0</td>\n",
       "      <td>23.0</td>\n",
       "      <td>47.0</td>\n",
       "    </tr>\n",
       "    <tr>\n",
       "      <th>pub_rec</th>\n",
       "      <td>float64</td>\n",
       "      <td>50001</td>\n",
       "      <td>0.06%</td>\n",
       "      <td>10</td>\n",
       "      <td>0.075542</td>\n",
       "      <td>0.303595</td>\n",
       "      <td>0.0</td>\n",
       "      <td>0.0</td>\n",
       "      <td>0.0</td>\n",
       "      <td>0.0</td>\n",
       "      <td>0.0</td>\n",
       "      <td>0.0</td>\n",
       "      <td>1.0</td>\n",
       "      <td>9.0</td>\n",
       "    </tr>\n",
       "    <tr>\n",
       "      <th>revol_bal</th>\n",
       "      <td>int64</td>\n",
       "      <td>50001</td>\n",
       "      <td>0.00%</td>\n",
       "      <td>25198</td>\n",
       "      <td>14582.190036</td>\n",
       "      <td>21464.724122</td>\n",
       "      <td>0.0</td>\n",
       "      <td>0.0</td>\n",
       "      <td>1309.0</td>\n",
       "      <td>9409.0</td>\n",
       "      <td>17784.0</td>\n",
       "      <td>30375.0</td>\n",
       "      <td>97102.0</td>\n",
       "      <td>1207359.0</td>\n",
       "    </tr>\n",
       "    <tr>\n",
       "      <th>revol_util</th>\n",
       "      <td>float64</td>\n",
       "      <td>50001</td>\n",
       "      <td>0.19%</td>\n",
       "      <td>1130</td>\n",
       "      <td>50.440635</td>\n",
       "      <td>27.694262</td>\n",
       "      <td>0.0</td>\n",
       "      <td>0.0</td>\n",
       "      <td>10.3</td>\n",
       "      <td>51.6</td>\n",
       "      <td>73.2</td>\n",
       "      <td>87.94</td>\n",
       "      <td>98.5</td>\n",
       "      <td>119.0</td>\n",
       "    </tr>\n",
       "  </tbody>\n",
       "</table>\n",
       "</div>"
      ],
      "text/plain": [
       "                           type   size missing  unique  \\\n",
       "loan_amnt                 int64  50001   0.00%     950   \n",
       "funded_amnt               int64  50001   0.00%    1077   \n",
       "funded_amnt_inv         float64  50001   0.00%    9308   \n",
       "term                     object  50001   0.00%       2   \n",
       "int_rate                float64  50001   0.00%     419   \n",
       "installment             float64  50001   0.00%   18578   \n",
       "grade                    object  50001   0.00%       7   \n",
       "sub_grade                object  50001   0.00%      35   \n",
       "emp_title                object  50001   6.17%   35068   \n",
       "emp_length               object  50001   2.88%      11   \n",
       "home_ownership           object  50001   0.00%       5   \n",
       "annual_inc              float64  50001   0.01%    6185   \n",
       "verification_status      object  50001   0.00%       3   \n",
       "issue_d                  object  50001   0.00%      56   \n",
       "loan_status              object  50001   0.00%       9   \n",
       "pymnt_plan               object  50001   0.00%       2   \n",
       "purpose                  object  50001   0.00%      14   \n",
       "title                    object  50001   0.03%   23149   \n",
       "zip_code                 object  50001   0.00%     849   \n",
       "addr_state               object  50001   0.00%      50   \n",
       "dti                     float64  50001   0.00%    3259   \n",
       "delinq_2yrs             float64  50001   0.06%      13   \n",
       "earliest_cr_line         object  50001   0.06%     563   \n",
       "inq_last_6mths          float64  50001   0.06%      28   \n",
       "mths_since_last_delinq  float64  50001  61.65%      98   \n",
       "mths_since_last_record  float64  50001  90.59%     120   \n",
       "open_acc                float64  50001   0.06%      45   \n",
       "pub_rec                 float64  50001   0.06%      10   \n",
       "revol_bal                 int64  50001   0.00%   25198   \n",
       "revol_util              float64  50001   0.19%    1130   \n",
       "\n",
       "                                     mean_or_top1  \\\n",
       "loan_amnt                            11644.930101   \n",
       "funded_amnt                          11416.830663   \n",
       "funded_amnt_inv                      10835.397185   \n",
       "term                             36 months:74.02%   \n",
       "int_rate                                12.499102   \n",
       "installment                            342.396708   \n",
       "grade                                    B:29.05%   \n",
       "sub_grade                                B3:6.96%   \n",
       "emp_title                           Teacher:0.34%   \n",
       "emp_length                       10+ years:23.87%   \n",
       "home_ownership                        RENT:45.99%   \n",
       "annual_inc                           70202.901597   \n",
       "verification_status           Not Verified:41.41%   \n",
       "issue_d                             Dec-13:14.93%   \n",
       "loan_status                     Fully Paid:69.71%   \n",
       "pymnt_plan                               n:99.99%   \n",
       "purpose                 debt_consolidation:48.31%   \n",
       "title                    Debt Consolidation:5.49%   \n",
       "zip_code                              100xx:1.39%   \n",
       "addr_state                              CA:16.87%   \n",
       "dti                                     13.978016   \n",
       "delinq_2yrs                              0.175758   \n",
       "earliest_cr_line                     Nov-98:0.90%   \n",
       "inq_last_6mths                           1.048407   \n",
       "mths_since_last_delinq                  34.703713   \n",
       "mths_since_last_record                  63.097131   \n",
       "open_acc                                 9.655227   \n",
       "pub_rec                                  0.075542   \n",
       "revol_bal                            14582.190036   \n",
       "revol_util                              50.440635   \n",
       "\n",
       "                                          std_or_top2  \\\n",
       "loan_amnt                                 7676.575478   \n",
       "funded_amnt                               7478.137771   \n",
       "funded_amnt_inv                           7514.347754   \n",
       "term                                 60 months:25.98%   \n",
       "int_rate                                     3.893086   \n",
       "installment                                 221.41981   \n",
       "grade                                        A:22.58%   \n",
       "sub_grade                                    B5:6.53%   \n",
       "emp_title                               US Army:0.28%   \n",
       "emp_length                            < 1 year:11.29%   \n",
       "home_ownership                        MORTGAGE:45.91%   \n",
       "annual_inc                               61972.633442   \n",
       "verification_status                   Verified:33.18%   \n",
       "issue_d                                  Dec-11:4.53%   \n",
       "loan_status                        Charged Off:12.39%   \n",
       "pymnt_plan                                    y:0.01%   \n",
       "purpose                            credit_card:15.01%   \n",
       "title                   Debt Consolidation Loan:3.63%   \n",
       "zip_code                                  945xx:1.30%   \n",
       "addr_state                                   NY:9.36%   \n",
       "dti                                          7.003511   \n",
       "delinq_2yrs                                  0.568448   \n",
       "earliest_cr_line                         Oct-99:0.90%   \n",
       "inq_last_6mths                               1.468376   \n",
       "mths_since_last_delinq                      22.273638   \n",
       "mths_since_last_record                      44.388999   \n",
       "open_acc                                     4.602906   \n",
       "pub_rec                                      0.303595   \n",
       "revol_bal                                21464.724122   \n",
       "revol_util                                  27.694262   \n",
       "\n",
       "                                     min_or_top3  \\\n",
       "loan_amnt                                  500.0   \n",
       "funded_amnt                                500.0   \n",
       "funded_amnt_inv                              0.0   \n",
       "term                                        None   \n",
       "int_rate                                    5.42   \n",
       "installment                                15.67   \n",
       "grade                                   C:21.79%   \n",
       "sub_grade                               A4:6.41%   \n",
       "emp_title                  Bank of America:0.23%   \n",
       "emp_length                        2 years:10.78%   \n",
       "home_ownership                         OWN:7.82%   \n",
       "annual_inc                                1896.0   \n",
       "verification_status       Source Verified:25.42%   \n",
       "issue_d                             Nov-11:4.46%   \n",
       "loan_status                       Current:11.80%   \n",
       "pymnt_plan                                  None   \n",
       "purpose                              other:9.52%   \n",
       "title                   Debt consolidation:2.73%   \n",
       "zip_code                             606xx:1.23%   \n",
       "addr_state                              FL:7.24%   \n",
       "dti                                          0.0   \n",
       "delinq_2yrs                                  0.0   \n",
       "earliest_cr_line                    Oct-00:0.83%   \n",
       "inq_last_6mths                               0.0   \n",
       "mths_since_last_delinq                       0.0   \n",
       "mths_since_last_record                       0.0   \n",
       "open_acc                                     1.0   \n",
       "pub_rec                                      0.0   \n",
       "revol_bal                                    0.0   \n",
       "revol_util                                   0.0   \n",
       "\n",
       "                                                               1%_or_top4  \\\n",
       "loan_amnt                                                          1200.0   \n",
       "funded_amnt                                                        1200.0   \n",
       "funded_amnt_inv                                                     375.0   \n",
       "term                                                                 None   \n",
       "int_rate                                                             5.42   \n",
       "installment                                                         38.54   \n",
       "grade                                                            D:14.64%   \n",
       "sub_grade                                                        A5:6.32%   \n",
       "emp_title                                                   Manager:0.20%   \n",
       "emp_length                                                  3 years:9.90%   \n",
       "home_ownership                                                OTHER:0.27%   \n",
       "annual_inc                                                        14400.0   \n",
       "verification_status                                                  None   \n",
       "issue_d                                                      Oct-11:4.24%   \n",
       "loan_status             Does not meet the credit policy. Status:Fully ...   \n",
       "pymnt_plan                                                           None   \n",
       "purpose                                            home_improvement:7.05%   \n",
       "title                                                 Consolidation:1.53%   \n",
       "zip_code                                                      112xx:1.22%   \n",
       "addr_state                                                       TX:7.10%   \n",
       "dti                                                                   0.4   \n",
       "delinq_2yrs                                                           0.0   \n",
       "earliest_cr_line                                             Dec-98:0.82%   \n",
       "inq_last_6mths                                                        0.0   \n",
       "mths_since_last_delinq                                                0.0   \n",
       "mths_since_last_record                                                0.0   \n",
       "open_acc                                                              2.0   \n",
       "pub_rec                                                               0.0   \n",
       "revol_bal                                                             0.0   \n",
       "revol_util                                                            0.0   \n",
       "\n",
       "                                                              10%_or_top5  \\\n",
       "loan_amnt                                                          3400.0   \n",
       "funded_amnt                                                        3300.0   \n",
       "funded_amnt_inv                                                    2800.0   \n",
       "term                                                                 None   \n",
       "int_rate                                                             7.49   \n",
       "installment                                                        102.86   \n",
       "grade                                                             E:7.86%   \n",
       "sub_grade                                                        B4:6.08%   \n",
       "emp_title                                                       IBM:0.14%   \n",
       "emp_length                                                   1 year:8.06%   \n",
       "home_ownership                                                 NONE:0.02%   \n",
       "annual_inc                                                        30000.0   \n",
       "verification_status                                                  None   \n",
       "issue_d                                                      Sep-11:4.13%   \n",
       "loan_status             Does not meet the credit policy. Status:Charge...   \n",
       "pymnt_plan                                                           None   \n",
       "purpose                                              major_purchase:4.85%   \n",
       "title                                                 Personal Loan:1.51%   \n",
       "zip_code                                                      070xx:1.14%   \n",
       "addr_state                                                       NJ:4.55%   \n",
       "dti                                                                  4.43   \n",
       "delinq_2yrs                                                           0.0   \n",
       "earliest_cr_line                                             Dec-97:0.76%   \n",
       "inq_last_6mths                                                        0.0   \n",
       "mths_since_last_delinq                                                6.0   \n",
       "mths_since_last_record                                                0.0   \n",
       "open_acc                                                              4.0   \n",
       "pub_rec                                                               0.0   \n",
       "revol_bal                                                          1309.0   \n",
       "revol_util                                                           10.3   \n",
       "\n",
       "                                                           50%_or_bottom5  \\\n",
       "loan_amnt                                                         10000.0   \n",
       "funded_amnt                                                       10000.0   \n",
       "funded_amnt_inv                                                    9500.0   \n",
       "term                                                                 None   \n",
       "int_rate                                                            12.42   \n",
       "installment                                                        298.67   \n",
       "grade                                                            C:21.79%   \n",
       "sub_grade                                                        G1:0.32%   \n",
       "emp_title                        Video Teleconferencing Technician :0.00%   \n",
       "emp_length                                                  5 years:7.94%   \n",
       "home_ownership                                                RENT:45.99%   \n",
       "annual_inc                                                        60000.0   \n",
       "verification_status                                                  None   \n",
       "issue_d                                                      Aug-07:0.15%   \n",
       "loan_status             Does not meet the credit policy. Status:Charge...   \n",
       "pymnt_plan                                                           None   \n",
       "purpose                                                      moving:1.32%   \n",
       "title                                           Nichole Credit Card:0.00%   \n",
       "zip_code                                                      834xx:0.00%   \n",
       "addr_state                                                       MS:0.05%   \n",
       "dti                                                                 13.97   \n",
       "delinq_2yrs                                                           0.0   \n",
       "earliest_cr_line                                             Jan-60:0.00%   \n",
       "inq_last_6mths                                                        1.0   \n",
       "mths_since_last_delinq                                               32.0   \n",
       "mths_since_last_record                                               84.0   \n",
       "open_acc                                                              9.0   \n",
       "pub_rec                                                               0.0   \n",
       "revol_bal                                                          9409.0   \n",
       "revol_util                                                           51.6   \n",
       "\n",
       "                                                75%_or_bottom4  \\\n",
       "loan_amnt                                              15250.0   \n",
       "funded_amnt                                            15000.0   \n",
       "funded_amnt_inv                                        14975.0   \n",
       "term                                                      None   \n",
       "int_rate                                                 14.98   \n",
       "installment                                             460.56   \n",
       "grade                                                 D:14.64%   \n",
       "sub_grade                                             G2:0.24%   \n",
       "emp_title                 Rochdale Investment Management:0.00%   \n",
       "emp_length                                       6 years:5.52%   \n",
       "home_ownership                                 MORTGAGE:45.91%   \n",
       "annual_inc                                             84996.0   \n",
       "verification_status                                       None   \n",
       "issue_d                                           Jul-07:0.13%   \n",
       "loan_status                           Late (31-120 days):0.35%   \n",
       "pymnt_plan                                                None   \n",
       "purpose                                            house:0.90%   \n",
       "title                   Credit card interest too high!!!:0.00%   \n",
       "zip_code                                           059xx:0.00%   \n",
       "addr_state                                            IA:0.02%   \n",
       "dti                                                      19.29   \n",
       "delinq_2yrs                                                0.0   \n",
       "earliest_cr_line                                  Dec-66:0.00%   \n",
       "inq_last_6mths                                             2.0   \n",
       "mths_since_last_delinq                                    51.0   \n",
       "mths_since_last_record                                   101.0   \n",
       "open_acc                                                  12.0   \n",
       "pub_rec                                                    0.0   \n",
       "revol_bal                                              17784.0   \n",
       "revol_util                                                73.2   \n",
       "\n",
       "                                    90%_or_bottom3            99%_or_bottom2  \\\n",
       "loan_amnt                                  24000.0                   35000.0   \n",
       "funded_amnt                                22025.0                   35000.0   \n",
       "funded_amnt_inv                            21375.0                   34975.0   \n",
       "term                                          None          36 months:74.02%   \n",
       "int_rate                                     17.57                      22.4   \n",
       "installment                                 659.37                   1025.04   \n",
       "grade                                      E:7.86%                   F:2.96%   \n",
       "sub_grade                                 G4:0.20%                  G3:0.18%   \n",
       "emp_title                       D&D cabinets:0.00%  Hewlett Foundation:0.00%   \n",
       "emp_length                           7 years:4.59%             8 years:3.87%   \n",
       "home_ownership                           OWN:7.82%               OTHER:0.27%   \n",
       "annual_inc                                120000.0                  243616.0   \n",
       "verification_status            Not Verified:41.41%           Verified:33.18%   \n",
       "issue_d                               Sep-08:0.11%              Sep-07:0.11%   \n",
       "loan_status                  In Grace Period:0.14%   Late (16-30 days):0.07%   \n",
       "pymnt_plan                                    None                  n:99.99%   \n",
       "purpose                             vacation:0.86%         educational:0.84%   \n",
       "title                   Pay debts get saving:0.00%               mark :0.00%   \n",
       "zip_code                               556xx:0.00%               832xx:0.00%   \n",
       "addr_state                                NE:0.02%                  ID:0.02%   \n",
       "dti                                          23.14                      29.6   \n",
       "delinq_2yrs                                    1.0                       3.0   \n",
       "earliest_cr_line                      Dec-63:0.00%              Mar-63:0.00%   \n",
       "inq_last_6mths                                 3.0                       6.0   \n",
       "mths_since_last_delinq                        68.0                      81.0   \n",
       "mths_since_last_record                       112.0                     118.0   \n",
       "open_acc                                      16.0                      23.0   \n",
       "pub_rec                                        0.0                       1.0   \n",
       "revol_bal                                  30375.0                   97102.0   \n",
       "revol_util                                   87.94                      98.5   \n",
       "\n",
       "                                           max_or_bottom1  \n",
       "loan_amnt                                         35000.0  \n",
       "funded_amnt                                       35000.0  \n",
       "funded_amnt_inv                                   35000.0  \n",
       "term                                     60 months:25.98%  \n",
       "int_rate                                            26.06  \n",
       "installment                                       1407.01  \n",
       "grade                                             G:1.12%  \n",
       "sub_grade                                        G5:0.18%  \n",
       "emp_title                       Wagon Mound Schools:0.00%  \n",
       "emp_length                                  9 years:3.28%  \n",
       "home_ownership                                 NONE:0.02%  \n",
       "annual_inc                                      6000000.0  \n",
       "verification_status                Source Verified:25.42%  \n",
       "issue_d                                      Jun-07:0.05%  \n",
       "loan_status                                 Default:0.04%  \n",
       "pymnt_plan                                        y:0.01%  \n",
       "purpose                            renewable_energy:0.22%  \n",
       "title                   Home Improvement/fence/pool:0.00%  \n",
       "zip_code                                      772xx:0.00%  \n",
       "addr_state                                       ME:0.01%  \n",
       "dti                                                 34.95  \n",
       "delinq_2yrs                                          15.0  \n",
       "earliest_cr_line                             Sep-65:0.00%  \n",
       "inq_last_6mths                                       33.0  \n",
       "mths_since_last_delinq                              135.0  \n",
       "mths_since_last_record                              129.0  \n",
       "open_acc                                             47.0  \n",
       "pub_rec                                               9.0  \n",
       "revol_bal                                       1207359.0  \n",
       "revol_util                                          119.0  "
      ]
     },
     "execution_count": 7,
     "metadata": {},
     "output_type": "execute_result"
    }
   ],
   "source": [
    "toad.detect(df)[:30]"
   ]
  },
  {
   "cell_type": "code",
   "execution_count": 8,
   "id": "7db0c623",
   "metadata": {},
   "outputs": [],
   "source": [
    "# 0 means bad/default and 1 means good/non-default\n",
    "df['good_bad'] = np.where(\n",
    "    df['loan_status'].isin(\n",
    "        ['Charged Off','Default','Late (31-120 days)','Does not meet the credit policy. Status:Charged Off']),\n",
    "        1,0)"
   ]
  },
  {
   "cell_type": "code",
   "execution_count": 9,
   "id": "c8e8f7a1",
   "metadata": {},
   "outputs": [],
   "source": [
    "df.drop(['loan_status'], axis = 1, inplace = True)"
   ]
  },
  {
   "cell_type": "code",
   "execution_count": 10,
   "id": "2439fb2d",
   "metadata": {},
   "outputs": [
    {
     "data": {
      "text/html": [
       "<div>\n",
       "<style scoped>\n",
       "    .dataframe tbody tr th:only-of-type {\n",
       "        vertical-align: middle;\n",
       "    }\n",
       "\n",
       "    .dataframe tbody tr th {\n",
       "        vertical-align: top;\n",
       "    }\n",
       "\n",
       "    .dataframe thead th {\n",
       "        text-align: right;\n",
       "    }\n",
       "</style>\n",
       "<table border=\"1\" class=\"dataframe\">\n",
       "  <thead>\n",
       "    <tr style=\"text-align: right;\">\n",
       "      <th></th>\n",
       "      <th>iv</th>\n",
       "      <th>gini</th>\n",
       "      <th>entropy</th>\n",
       "      <th>unique</th>\n",
       "    </tr>\n",
       "  </thead>\n",
       "  <tbody>\n",
       "    <tr>\n",
       "      <th>recoveries</th>\n",
       "      <td>7.976906</td>\n",
       "      <td>NaN</td>\n",
       "      <td>NaN</td>\n",
       "      <td>4756.0</td>\n",
       "    </tr>\n",
       "    <tr>\n",
       "      <th>collection_recovery_fee</th>\n",
       "      <td>7.068525</td>\n",
       "      <td>NaN</td>\n",
       "      <td>NaN</td>\n",
       "      <td>3077.0</td>\n",
       "    </tr>\n",
       "    <tr>\n",
       "      <th>emp_title</th>\n",
       "      <td>6.967810</td>\n",
       "      <td>NaN</td>\n",
       "      <td>NaN</td>\n",
       "      <td>35069.0</td>\n",
       "    </tr>\n",
       "    <tr>\n",
       "      <th>title</th>\n",
       "      <td>4.659662</td>\n",
       "      <td>NaN</td>\n",
       "      <td>NaN</td>\n",
       "      <td>23150.0</td>\n",
       "    </tr>\n",
       "    <tr>\n",
       "      <th>total_rec_prncp</th>\n",
       "      <td>2.510800</td>\n",
       "      <td>NaN</td>\n",
       "      <td>NaN</td>\n",
       "      <td>14588.0</td>\n",
       "    </tr>\n",
       "    <tr>\n",
       "      <th>last_pymnt_amnt</th>\n",
       "      <td>1.907207</td>\n",
       "      <td>NaN</td>\n",
       "      <td>NaN</td>\n",
       "      <td>41028.0</td>\n",
       "    </tr>\n",
       "    <tr>\n",
       "      <th>total_pymnt</th>\n",
       "      <td>1.209230</td>\n",
       "      <td>NaN</td>\n",
       "      <td>NaN</td>\n",
       "      <td>49137.0</td>\n",
       "    </tr>\n",
       "    <tr>\n",
       "      <th>total_pymnt_inv</th>\n",
       "      <td>0.911171</td>\n",
       "      <td>NaN</td>\n",
       "      <td>NaN</td>\n",
       "      <td>48749.0</td>\n",
       "    </tr>\n",
       "    <tr>\n",
       "      <th>last_pymnt_d</th>\n",
       "      <td>0.850873</td>\n",
       "      <td>NaN</td>\n",
       "      <td>NaN</td>\n",
       "      <td>99.0</td>\n",
       "    </tr>\n",
       "    <tr>\n",
       "      <th>sub_grade</th>\n",
       "      <td>0.350670</td>\n",
       "      <td>NaN</td>\n",
       "      <td>NaN</td>\n",
       "      <td>35.0</td>\n",
       "    </tr>\n",
       "    <tr>\n",
       "      <th>next_pymnt_d</th>\n",
       "      <td>0.338089</td>\n",
       "      <td>NaN</td>\n",
       "      <td>NaN</td>\n",
       "      <td>101.0</td>\n",
       "    </tr>\n",
       "    <tr>\n",
       "      <th>grade</th>\n",
       "      <td>0.321314</td>\n",
       "      <td>NaN</td>\n",
       "      <td>NaN</td>\n",
       "      <td>7.0</td>\n",
       "    </tr>\n",
       "    <tr>\n",
       "      <th>int_rate</th>\n",
       "      <td>0.310379</td>\n",
       "      <td>NaN</td>\n",
       "      <td>NaN</td>\n",
       "      <td>419.0</td>\n",
       "    </tr>\n",
       "    <tr>\n",
       "      <th>last_credit_pull_d</th>\n",
       "      <td>0.248823</td>\n",
       "      <td>NaN</td>\n",
       "      <td>NaN</td>\n",
       "      <td>104.0</td>\n",
       "    </tr>\n",
       "    <tr>\n",
       "      <th>out_prncp_inv</th>\n",
       "      <td>0.218719</td>\n",
       "      <td>NaN</td>\n",
       "      <td>NaN</td>\n",
       "      <td>5861.0</td>\n",
       "    </tr>\n",
       "    <tr>\n",
       "      <th>out_prncp</th>\n",
       "      <td>0.217937</td>\n",
       "      <td>NaN</td>\n",
       "      <td>NaN</td>\n",
       "      <td>5836.0</td>\n",
       "    </tr>\n",
       "    <tr>\n",
       "      <th>total_rec_late_fee</th>\n",
       "      <td>0.200779</td>\n",
       "      <td>NaN</td>\n",
       "      <td>NaN</td>\n",
       "      <td>2283.0</td>\n",
       "    </tr>\n",
       "    <tr>\n",
       "      <th>zip_code</th>\n",
       "      <td>0.170740</td>\n",
       "      <td>NaN</td>\n",
       "      <td>NaN</td>\n",
       "      <td>849.0</td>\n",
       "    </tr>\n",
       "    <tr>\n",
       "      <th>term</th>\n",
       "      <td>0.111127</td>\n",
       "      <td>NaN</td>\n",
       "      <td>NaN</td>\n",
       "      <td>2.0</td>\n",
       "    </tr>\n",
       "    <tr>\n",
       "      <th>total_rec_int</th>\n",
       "      <td>0.104762</td>\n",
       "      <td>NaN</td>\n",
       "      <td>NaN</td>\n",
       "      <td>46536.0</td>\n",
       "    </tr>\n",
       "  </tbody>\n",
       "</table>\n",
       "</div>"
      ],
      "text/plain": [
       "                               iv  gini  entropy   unique\n",
       "recoveries               7.976906   NaN      NaN   4756.0\n",
       "collection_recovery_fee  7.068525   NaN      NaN   3077.0\n",
       "emp_title                6.967810   NaN      NaN  35069.0\n",
       "title                    4.659662   NaN      NaN  23150.0\n",
       "total_rec_prncp          2.510800   NaN      NaN  14588.0\n",
       "last_pymnt_amnt          1.907207   NaN      NaN  41028.0\n",
       "total_pymnt              1.209230   NaN      NaN  49137.0\n",
       "total_pymnt_inv          0.911171   NaN      NaN  48749.0\n",
       "last_pymnt_d             0.850873   NaN      NaN     99.0\n",
       "sub_grade                0.350670   NaN      NaN     35.0\n",
       "next_pymnt_d             0.338089   NaN      NaN    101.0\n",
       "grade                    0.321314   NaN      NaN      7.0\n",
       "int_rate                 0.310379   NaN      NaN    419.0\n",
       "last_credit_pull_d       0.248823   NaN      NaN    104.0\n",
       "out_prncp_inv            0.218719   NaN      NaN   5861.0\n",
       "out_prncp                0.217937   NaN      NaN   5836.0\n",
       "total_rec_late_fee       0.200779   NaN      NaN   2283.0\n",
       "zip_code                 0.170740   NaN      NaN    849.0\n",
       "term                     0.111127   NaN      NaN      2.0\n",
       "total_rec_int            0.104762   NaN      NaN  46536.0"
      ]
     },
     "execution_count": 10,
     "metadata": {},
     "output_type": "execute_result"
    }
   ],
   "source": [
    "toad.quality(df, 'good_bad', iv_only = True)[:20]"
   ]
  },
  {
   "cell_type": "code",
   "execution_count": 11,
   "id": "3aeb0ac2",
   "metadata": {},
   "outputs": [],
   "source": [
    "df_select, dropped = toad.selection.select(df, target = 'good_bad', empty = 0.55, iv = 0.05, corr = 0.75, return_drop = True)"
   ]
  },
  {
   "cell_type": "code",
   "execution_count": 12,
   "id": "7ac825dc",
   "metadata": {},
   "outputs": [
    {
     "data": {
      "text/plain": [
       "{'empty': array(['mths_since_last_delinq', 'mths_since_last_record', 'next_pymnt_d',\n",
       "        'mths_since_last_major_derog', 'annual_inc_joint', 'dti_joint',\n",
       "        'verification_status_joint', 'tot_coll_amt', 'tot_cur_bal',\n",
       "        'open_acc_6m', 'open_il_6m', 'open_il_12m', 'open_il_24m',\n",
       "        'mths_since_rcnt_il', 'total_bal_il', 'il_util', 'open_rv_12m',\n",
       "        'open_rv_24m', 'max_bal_bc', 'all_util', 'total_rev_hi_lim',\n",
       "        'inq_fi', 'total_cu_tl', 'inq_last_12m'], dtype='<U27'),\n",
       " 'iv': array(['loan_amnt', 'funded_amnt', 'installment', 'emp_length',\n",
       "        'home_ownership', 'verification_status', 'pymnt_plan',\n",
       "        'addr_state', 'dti', 'delinq_2yrs', 'open_acc', 'pub_rec',\n",
       "        'revol_bal', 'total_acc', 'initial_list_status',\n",
       "        'collections_12_mths_ex_med', 'policy_code', 'application_type',\n",
       "        'acc_now_delinq'], dtype=object),\n",
       " 'corr': array(['total_pymnt_inv', 'total_pymnt', 'funded_amnt_inv', 'out_prncp',\n",
       "        'collection_recovery_fee'], dtype=object)}"
      ]
     },
     "execution_count": 12,
     "metadata": {},
     "output_type": "execute_result"
    }
   ],
   "source": [
    "dropped"
   ]
  },
  {
   "cell_type": "code",
   "execution_count": 13,
   "id": "eaceb118",
   "metadata": {},
   "outputs": [
    {
     "data": {
      "text/plain": [
       "(50001, 16)"
      ]
     },
     "execution_count": 13,
     "metadata": {},
     "output_type": "execute_result"
    }
   ],
   "source": [
    "df_select.drop(['emp_title', 'title', 'zip_code', 'earliest_cr_line', 'last_pymnt_d', 'last_credit_pull_d'], axis = 1, inplace = True)\n",
    "df_select.shape"
   ]
  },
  {
   "cell_type": "code",
   "execution_count": 14,
   "id": "6c756465",
   "metadata": {},
   "outputs": [
    {
     "data": {
      "text/plain": [
       "98"
      ]
     },
     "execution_count": 14,
     "metadata": {},
     "output_type": "execute_result"
    }
   ],
   "source": [
    "df['last_pymnt_d'].nunique()"
   ]
  },
  {
   "cell_type": "code",
   "execution_count": 15,
   "id": "fe015ad3",
   "metadata": {},
   "outputs": [],
   "source": [
    "c = toad.transform.Combiner()"
   ]
  },
  {
   "cell_type": "code",
   "execution_count": 16,
   "id": "7cef9e80",
   "metadata": {},
   "outputs": [
    {
     "data": {
      "text/plain": [
       "<toad.transform.Combiner at 0x2cd32572c40>"
      ]
     },
     "execution_count": 16,
     "metadata": {},
     "output_type": "execute_result"
    }
   ],
   "source": [
    "c.fit(df_select, y = 'good_bad', method = 'chi', min_samples = 0.05)"
   ]
  },
  {
   "cell_type": "code",
   "execution_count": 17,
   "id": "420c383c",
   "metadata": {},
   "outputs": [
    {
     "data": {
      "text/plain": [
       "{'term': [[' 36 months'], [' 60 months']],\n",
       " 'int_rate': [8.49, 9.76, 11.22, 13.99, 16.29],\n",
       " 'grade': [['A'], ['B'], ['C'], ['D'], ['E', 'F', 'G']],\n",
       " 'sub_grade': [['A1', 'A2', 'A3', 'A4'],\n",
       "  ['A5', 'B1'],\n",
       "  ['B2', 'B3'],\n",
       "  ['B5', 'B4'],\n",
       "  ['C1', 'C2', 'C4', 'C5', 'C3', 'D1'],\n",
       "  ['D2', 'D3', 'E3', 'D4', 'D5'],\n",
       "  ['E2',\n",
       "   'E5',\n",
       "   'E1',\n",
       "   'F1',\n",
       "   'F2',\n",
       "   'F3',\n",
       "   'E4',\n",
       "   'G1',\n",
       "   'F4',\n",
       "   'G2',\n",
       "   'G4',\n",
       "   'G5',\n",
       "   'G3',\n",
       "   'F5']],\n",
       " 'annual_inc': [36900.0, 60008.0, 95030.0],\n",
       " 'issue_d': [['Dec-13',\n",
       "   'Mar-10',\n",
       "   'Dec-09',\n",
       "   'Feb-10',\n",
       "   'Apr-10',\n",
       "   'Jul-07',\n",
       "   'Aug-09'],\n",
       "  ['Aug-08',\n",
       "   'Dec-10',\n",
       "   'Jun-07',\n",
       "   'Mar-09',\n",
       "   'Sep-09',\n",
       "   'Feb-11',\n",
       "   'Jul-10',\n",
       "   'Jan-11',\n",
       "   'Feb-09',\n",
       "   'Jan-10',\n",
       "   'Aug-11',\n",
       "   'Jul-09',\n",
       "   'Apr-11',\n",
       "   'May-09',\n",
       "   'Jun-09',\n",
       "   'Nov-10',\n",
       "   'Mar-11',\n",
       "   'May-10',\n",
       "   'Oct-11',\n",
       "   'Jun-11',\n",
       "   'Aug-10',\n",
       "   'Nov-09',\n",
       "   'Apr-09',\n",
       "   'Jul-11',\n",
       "   'Sep-11',\n",
       "   'Nov-11',\n",
       "   'Jan-09',\n",
       "   'Oct-10',\n",
       "   'Dec-08'],\n",
       "  ['Oct-09',\n",
       "   'May-11',\n",
       "   'Oct-08',\n",
       "   'Sep-10',\n",
       "   'Sep-08',\n",
       "   'Jun-10',\n",
       "   'Jun-08',\n",
       "   'Dec-11',\n",
       "   'Nov-08',\n",
       "   'Feb-08',\n",
       "   'Jul-08',\n",
       "   'May-08',\n",
       "   'Mar-08',\n",
       "   'Apr-08',\n",
       "   'Sep-07',\n",
       "   'Aug-07',\n",
       "   'Dec-07',\n",
       "   'Jan-08',\n",
       "   'Nov-07',\n",
       "   'Oct-07']],\n",
       " 'purpose': [['car', 'credit_card', 'major_purchase', 'wedding'],\n",
       "  ['home_improvement', 'vacation'],\n",
       "  ['debt_consolidation'],\n",
       "  ['medical', 'house', 'other', 'moving'],\n",
       "  ['renewable_energy', 'educational', 'small_business']],\n",
       " 'inq_last_6mths': [1.0, 3.0],\n",
       " 'revol_util': [27.7, 70.8],\n",
       " 'out_prncp_inv': [7.04],\n",
       " 'total_rec_prncp': [2997.84, 4999.95, 9994.03],\n",
       " 'total_rec_int': [450.18],\n",
       " 'total_rec_late_fee': [0.01],\n",
       " 'recoveries': [0.25],\n",
       " 'last_pymnt_amnt': [201.28, 961.58, 12820.32]}"
      ]
     },
     "execution_count": 17,
     "metadata": {},
     "output_type": "execute_result"
    }
   ],
   "source": [
    "c.export()"
   ]
  },
  {
   "cell_type": "code",
   "execution_count": 18,
   "id": "99e5db23",
   "metadata": {},
   "outputs": [],
   "source": [
    "from toad.plot import bin_plot"
   ]
  },
  {
   "cell_type": "code",
   "execution_count": 19,
   "id": "b4189b9e",
   "metadata": {},
   "outputs": [
    {
     "data": {
      "text/plain": [
       "<AxesSubplot:xlabel='last_pymnt_amnt', ylabel='prop'>"
      ]
     },
     "execution_count": 19,
     "metadata": {},
     "output_type": "execute_result"
    },
    {
     "data": {
      "image/png": "[encoded data removed]",
      "text/plain": [
       "<Figure size 864x432 with 2 Axes>"
      ]
     },
     "metadata": {},
     "output_type": "display_data"
    }
   ],
   "source": [
    "bin_plot(c.transform(df_select[['last_pymnt_amnt','good_bad']], labels=True), x='last_pymnt_amnt', target='good_bad')"
   ]
  },
  {
   "cell_type": "code",
   "execution_count": 20,
   "id": "b74b30c3",
   "metadata": {},
   "outputs": [
    {
     "data": {
      "text/plain": [
       "<AxesSubplot:xlabel='recoveries', ylabel='prop'>"
      ]
     },
     "execution_count": 20,
     "metadata": {},
     "output_type": "execute_result"
    },
    {
     "data": {
      "image/png": "[encoded data removed]",
      "text/plain": [
       "<Figure size 864x432 with 2 Axes>"
      ]
     },
     "metadata": {},
     "output_type": "display_data"
    }
   ],
   "source": [
    "bin_plot(c.transform(df_select[['recoveries','good_bad']], labels=True), x='recoveries', target='good_bad')"
   ]
  },
  {
   "cell_type": "code",
   "execution_count": 21,
   "id": "6ec94384",
   "metadata": {},
   "outputs": [
    {
     "data": {
      "text/plain": [
       "<AxesSubplot:xlabel='total_rec_late_fee', ylabel='prop'>"
      ]
     },
     "execution_count": 21,
     "metadata": {},
     "output_type": "execute_result"
    },
    {
     "data": {
      "image/png": "[encoded data removed]",
      "text/plain": [
       "<Figure size 864x432 with 2 Axes>"
      ]
     },
     "metadata": {},
     "output_type": "display_data"
    }
   ],
   "source": [
    "bin_plot(c.transform(df_select[['total_rec_late_fee','good_bad']], labels=True), x='total_rec_late_fee', target='good_bad')"
   ]
  },
  {
   "cell_type": "code",
   "execution_count": 22,
   "id": "204b70f1",
   "metadata": {},
   "outputs": [
    {
     "data": {
      "text/plain": [
       "<AxesSubplot:xlabel='total_rec_int', ylabel='prop'>"
      ]
     },
     "execution_count": 22,
     "metadata": {},
     "output_type": "execute_result"
    },
    {
     "data": {
      "image/png": "[encoded data removed]",
      "text/plain": [
       "<Figure size 864x432 with 2 Axes>"
      ]
     },
     "metadata": {},
     "output_type": "display_data"
    }
   ],
   "source": [
    "bin_plot(c.transform(df_select[['total_rec_int','good_bad']], labels=True), x='total_rec_int', target='good_bad')"
   ]
  },
  {
   "cell_type": "code",
   "execution_count": 23,
   "id": "171f9f4f",
   "metadata": {},
   "outputs": [
    {
     "data": {
      "text/plain": [
       "<AxesSubplot:xlabel='total_rec_prncp', ylabel='prop'>"
      ]
     },
     "execution_count": 23,
     "metadata": {},
     "output_type": "execute_result"
    },
    {
     "data": {
      "image/png": "[encoded data removed]",
      "text/plain": [
       "<Figure size 864x432 with 2 Axes>"
      ]
     },
     "metadata": {},
     "output_type": "display_data"
    }
   ],
   "source": [
    "bin_plot(c.transform(df_select[['total_rec_prncp','good_bad']], labels=True), x='total_rec_prncp', target='good_bad')"
   ]
  },
  {
   "cell_type": "code",
   "execution_count": 24,
   "id": "232ba7e7",
   "metadata": {},
   "outputs": [
    {
     "data": {
      "text/plain": [
       "<AxesSubplot:xlabel='out_prncp_inv', ylabel='prop'>"
      ]
     },
     "execution_count": 24,
     "metadata": {},
     "output_type": "execute_result"
    },
    {
     "data": {
      "image/png": "[encoded data removed]",
      "text/plain": [
       "<Figure size 864x432 with 2 Axes>"
      ]
     },
     "metadata": {},
     "output_type": "display_data"
    }
   ],
   "source": [
    "bin_plot(c.transform(df_select[['out_prncp_inv','good_bad']], labels=True), x='out_prncp_inv', target='good_bad')"
   ]
  },
  {
   "cell_type": "code",
   "execution_count": 25,
   "id": "76b12d1e",
   "metadata": {},
   "outputs": [
    {
     "data": {
      "text/plain": [
       "<AxesSubplot:xlabel='revol_util', ylabel='prop'>"
      ]
     },
     "execution_count": 25,
     "metadata": {},
     "output_type": "execute_result"
    },
    {
     "data": {
      "image/png": "[encoded data removed]",
      "text/plain": [
       "<Figure size 864x432 with 2 Axes>"
      ]
     },
     "metadata": {},
     "output_type": "display_data"
    }
   ],
   "source": [
    "bin_plot(c.transform(df_select[['revol_util','good_bad']], labels=True), x='revol_util', target='good_bad')"
   ]
  },
  {
   "cell_type": "code",
   "execution_count": 26,
   "id": "ce1f45eb",
   "metadata": {},
   "outputs": [
    {
     "data": {
      "text/plain": [
       "<AxesSubplot:xlabel='inq_last_6mths', ylabel='prop'>"
      ]
     },
     "execution_count": 26,
     "metadata": {},
     "output_type": "execute_result"
    },
    {
     "data": {
      "image/png": "[encoded data removed]",
      "text/plain": [
       "<Figure size 864x432 with 2 Axes>"
      ]
     },
     "metadata": {},
     "output_type": "display_data"
    }
   ],
   "source": [
    "bin_plot(c.transform(df_select[['inq_last_6mths','good_bad']], labels=True), x='inq_last_6mths', target='good_bad')"
   ]
  },
  {
   "cell_type": "code",
   "execution_count": 27,
   "id": "5720b34e",
   "metadata": {},
   "outputs": [
    {
     "data": {
      "text/plain": [
       "<AxesSubplot:xlabel='purpose', ylabel='prop'>"
      ]
     },
     "execution_count": 27,
     "metadata": {},
     "output_type": "execute_result"
    },
    {
     "data": {
      "image/png": "[encoded data removed]",
      "text/plain": [
       "<Figure size 864x432 with 2 Axes>"
      ]
     },
     "metadata": {},
     "output_type": "display_data"
    }
   ],
   "source": [
    "bin_plot(c.transform(df_select[['purpose','good_bad']], labels=True), x='purpose', target='good_bad')"
   ]
  },
  {
   "cell_type": "code",
   "execution_count": 28,
   "id": "9e77b135",
   "metadata": {},
   "outputs": [
    {
     "data": {
      "text/plain": [
       "<AxesSubplot:xlabel='issue_d', ylabel='prop'>"
      ]
     },
     "execution_count": 28,
     "metadata": {},
     "output_type": "execute_result"
    },
    {
     "data": {
      "image/png": "[encoded data removed]",
      "text/plain": [
       "<Figure size 864x432 with 2 Axes>"
      ]
     },
     "metadata": {},
     "output_type": "display_data"
    }
   ],
   "source": [
    "bin_plot(c.transform(df_select[['issue_d','good_bad']], labels=True), x='issue_d', target='good_bad')"
   ]
  },
  {
   "cell_type": "code",
   "execution_count": 29,
   "id": "54dd3b27",
   "metadata": {},
   "outputs": [
    {
     "data": {
      "text/plain": [
       "<AxesSubplot:xlabel='annual_inc', ylabel='prop'>"
      ]
     },
     "execution_count": 29,
     "metadata": {},
     "output_type": "execute_result"
    },
    {
     "data": {
      "image/png": "[encoded data removed]",
      "text/plain": [
       "<Figure size 864x432 with 2 Axes>"
      ]
     },
     "metadata": {},
     "output_type": "display_data"
    }
   ],
   "source": [
    "bin_plot(c.transform(df_select[['annual_inc','good_bad']], labels=True), x='annual_inc', target='good_bad')"
   ]
  },
  {
   "cell_type": "code",
   "execution_count": 30,
   "id": "a94d8e6f",
   "metadata": {},
   "outputs": [
    {
     "data": {
      "text/plain": [
       "<AxesSubplot:xlabel='sub_grade', ylabel='prop'>"
      ]
     },
     "execution_count": 30,
     "metadata": {},
     "output_type": "execute_result"
    },
    {
     "data": {
      "image/png": "[encoded data removed]",
      "text/plain": [
       "<Figure size 864x432 with 2 Axes>"
      ]
     },
     "metadata": {},
     "output_type": "display_data"
    }
   ],
   "source": [
    "bin_plot(c.transform(df_select[['sub_grade','good_bad']], labels=True), x='sub_grade', target='good_bad')"
   ]
  },
  {
   "cell_type": "code",
   "execution_count": 31,
   "id": "735cd73f",
   "metadata": {},
   "outputs": [
    {
     "data": {
      "text/plain": [
       "<AxesSubplot:xlabel='grade', ylabel='prop'>"
      ]
     },
     "execution_count": 31,
     "metadata": {},
     "output_type": "execute_result"
    },
    {
     "data": {
      "image/png": "[encoded data removed]",
      "text/plain": [
       "<Figure size 864x432 with 2 Axes>"
      ]
     },
     "metadata": {},
     "output_type": "display_data"
    }
   ],
   "source": [
    "bin_plot(c.transform(df_select[['grade','good_bad']], labels=True), x='grade', target='good_bad')"
   ]
  },
  {
   "cell_type": "code",
   "execution_count": 32,
   "id": "14f3a9d0",
   "metadata": {},
   "outputs": [
    {
     "data": {
      "text/plain": [
       "<AxesSubplot:xlabel='int_rate', ylabel='prop'>"
      ]
     },
     "execution_count": 32,
     "metadata": {},
     "output_type": "execute_result"
    },
    {
     "data": {
      "image/png": "[encoded data removed]",
      "text/plain": [
       "<Figure size 864x432 with 2 Axes>"
      ]
     },
     "metadata": {},
     "output_type": "display_data"
    }
   ],
   "source": [
    "bin_plot(c.transform(df_select[['int_rate','good_bad']], labels=True), x='int_rate', target='good_bad')"
   ]
  },
  {
   "cell_type": "code",
   "execution_count": 33,
   "id": "a10d0696",
   "metadata": {},
   "outputs": [],
   "source": [
    "transer = toad.transform.WOETransformer()"
   ]
  },
  {
   "cell_type": "code",
   "execution_count": 34,
   "id": "04a3707e",
   "metadata": {},
   "outputs": [],
   "source": [
    "df_woe = transer.fit_transform(c.transform(df_select), df_select['good_bad'], exclude=['good_bad'])"
   ]
  },
  {
   "cell_type": "code",
   "execution_count": 35,
   "id": "8edf3f27",
   "metadata": {},
   "outputs": [
    {
     "data": {
      "text/plain": [
       "(50001, 16)"
      ]
     },
     "execution_count": 35,
     "metadata": {},
     "output_type": "execute_result"
    }
   ],
   "source": [
    "df_woe.shape"
   ]
  },
  {
   "cell_type": "code",
   "execution_count": 36,
   "id": "dcff0d0a",
   "metadata": {},
   "outputs": [
    {
     "data": {
      "text/html": [
       "<div>\n",
       "<style scoped>\n",
       "    .dataframe tbody tr th:only-of-type {\n",
       "        vertical-align: middle;\n",
       "    }\n",
       "\n",
       "    .dataframe tbody tr th {\n",
       "        vertical-align: top;\n",
       "    }\n",
       "\n",
       "    .dataframe thead th {\n",
       "        text-align: right;\n",
       "    }\n",
       "</style>\n",
       "<table border=\"1\" class=\"dataframe\">\n",
       "  <thead>\n",
       "    <tr style=\"text-align: right;\">\n",
       "      <th></th>\n",
       "      <th>term</th>\n",
       "      <th>int_rate</th>\n",
       "      <th>grade</th>\n",
       "      <th>sub_grade</th>\n",
       "      <th>annual_inc</th>\n",
       "      <th>issue_d</th>\n",
       "      <th>purpose</th>\n",
       "      <th>inq_last_6mths</th>\n",
       "      <th>revol_util</th>\n",
       "      <th>out_prncp_inv</th>\n",
       "      <th>total_rec_prncp</th>\n",
       "      <th>total_rec_int</th>\n",
       "      <th>total_rec_late_fee</th>\n",
       "      <th>recoveries</th>\n",
       "      <th>last_pymnt_amnt</th>\n",
       "      <th>good_bad</th>\n",
       "    </tr>\n",
       "  </thead>\n",
       "  <tbody>\n",
       "    <tr>\n",
       "      <th>0</th>\n",
       "      <td>-0.225102</td>\n",
       "      <td>-0.301588</td>\n",
       "      <td>-0.263422</td>\n",
       "      <td>-0.330650</td>\n",
       "      <td>0.309107</td>\n",
       "      <td>0.3489</td>\n",
       "      <td>-0.343668</td>\n",
       "      <td>0.067149</td>\n",
       "      <td>0.296529</td>\n",
       "      <td>0.122919</td>\n",
       "      <td>-0.552133</td>\n",
       "      <td>-0.071338</td>\n",
       "      <td>-0.127967</td>\n",
       "      <td>-1.185738</td>\n",
       "      <td>0.787945</td>\n",
       "      <td>0</td>\n",
       "    </tr>\n",
       "    <tr>\n",
       "      <th>1</th>\n",
       "      <td>0.498272</td>\n",
       "      <td>0.301745</td>\n",
       "      <td>0.112988</td>\n",
       "      <td>0.131985</td>\n",
       "      <td>0.309107</td>\n",
       "      <td>0.3489</td>\n",
       "      <td>-0.343668</td>\n",
       "      <td>0.536935</td>\n",
       "      <td>-0.356486</td>\n",
       "      <td>0.122919</td>\n",
       "      <td>2.006253</td>\n",
       "      <td>0.360806</td>\n",
       "      <td>-0.127967</td>\n",
       "      <td>10.300775</td>\n",
       "      <td>0.787945</td>\n",
       "      <td>1</td>\n",
       "    </tr>\n",
       "    <tr>\n",
       "      <th>2</th>\n",
       "      <td>-0.225102</td>\n",
       "      <td>0.301745</td>\n",
       "      <td>0.112988</td>\n",
       "      <td>0.131985</td>\n",
       "      <td>0.309107</td>\n",
       "      <td>0.3489</td>\n",
       "      <td>0.728814</td>\n",
       "      <td>0.067149</td>\n",
       "      <td>0.296529</td>\n",
       "      <td>0.122919</td>\n",
       "      <td>2.006253</td>\n",
       "      <td>-0.071338</td>\n",
       "      <td>-0.127967</td>\n",
       "      <td>-1.185738</td>\n",
       "      <td>0.435700</td>\n",
       "      <td>0</td>\n",
       "    </tr>\n",
       "    <tr>\n",
       "      <th>3</th>\n",
       "      <td>-0.225102</td>\n",
       "      <td>0.024864</td>\n",
       "      <td>0.112988</td>\n",
       "      <td>0.131985</td>\n",
       "      <td>0.081618</td>\n",
       "      <td>0.3489</td>\n",
       "      <td>0.184475</td>\n",
       "      <td>0.067149</td>\n",
       "      <td>-0.356486</td>\n",
       "      <td>0.122919</td>\n",
       "      <td>-1.837474</td>\n",
       "      <td>-0.071338</td>\n",
       "      <td>1.497689</td>\n",
       "      <td>-1.185738</td>\n",
       "      <td>0.435700</td>\n",
       "      <td>0</td>\n",
       "    </tr>\n",
       "    <tr>\n",
       "      <th>4</th>\n",
       "      <td>0.498272</td>\n",
       "      <td>0.024864</td>\n",
       "      <td>-0.263422</td>\n",
       "      <td>-0.115608</td>\n",
       "      <td>-0.144376</td>\n",
       "      <td>0.3489</td>\n",
       "      <td>0.184475</td>\n",
       "      <td>-0.256280</td>\n",
       "      <td>-0.029762</td>\n",
       "      <td>-1.626343</td>\n",
       "      <td>2.006253</td>\n",
       "      <td>-0.071338</td>\n",
       "      <td>-0.127967</td>\n",
       "      <td>-1.185738</td>\n",
       "      <td>0.787945</td>\n",
       "      <td>0</td>\n",
       "    </tr>\n",
       "  </tbody>\n",
       "</table>\n",
       "</div>"
      ],
      "text/plain": [
       "       term  int_rate     grade  sub_grade  annual_inc  issue_d   purpose  \\\n",
       "0 -0.225102 -0.301588 -0.263422  -0.330650    0.309107   0.3489 -0.343668   \n",
       "1  0.498272  0.301745  0.112988   0.131985    0.309107   0.3489 -0.343668   \n",
       "2 -0.225102  0.301745  0.112988   0.131985    0.309107   0.3489  0.728814   \n",
       "3 -0.225102  0.024864  0.112988   0.131985    0.081618   0.3489  0.184475   \n",
       "4  0.498272  0.024864 -0.263422  -0.115608   -0.144376   0.3489  0.184475   \n",
       "\n",
       "   inq_last_6mths  revol_util  out_prncp_inv  total_rec_prncp  total_rec_int  \\\n",
       "0        0.067149    0.296529       0.122919        -0.552133      -0.071338   \n",
       "1        0.536935   -0.356486       0.122919         2.006253       0.360806   \n",
       "2        0.067149    0.296529       0.122919         2.006253      -0.071338   \n",
       "3        0.067149   -0.356486       0.122919        -1.837474      -0.071338   \n",
       "4       -0.256280   -0.029762      -1.626343         2.006253      -0.071338   \n",
       "\n",
       "   total_rec_late_fee  recoveries  last_pymnt_amnt  good_bad  \n",
       "0           -0.127967   -1.185738         0.787945         0  \n",
       "1           -0.127967   10.300775         0.787945         1  \n",
       "2           -0.127967   -1.185738         0.435700         0  \n",
       "3            1.497689   -1.185738         0.435700         0  \n",
       "4           -0.127967   -1.185738         0.787945         0  "
      ]
     },
     "execution_count": 36,
     "metadata": {},
     "output_type": "execute_result"
    }
   ],
   "source": [
    "df_woe.head()"
   ]
  },
  {
   "cell_type": "code",
   "execution_count": 37,
   "id": "51484dd7",
   "metadata": {},
   "outputs": [],
   "source": [
    "final_data = toad.selection.stepwise(df_woe,target = 'good_bad', estimator='ols', direction = 'both', criterion = 'aic')"
   ]
  },
  {
   "cell_type": "code",
   "execution_count": 38,
   "id": "e9fce681",
   "metadata": {},
   "outputs": [],
   "source": [
    "col = list(final_data.drop(['good_bad'],axis=1).columns)"
   ]
  },
  {
   "cell_type": "code",
   "execution_count": 39,
   "id": "0afb93be",
   "metadata": {},
   "outputs": [
    {
     "data": {
      "text/plain": [
       "['term',\n",
       " 'int_rate',\n",
       " 'grade',\n",
       " 'issue_d',\n",
       " 'inq_last_6mths',\n",
       " 'revol_util',\n",
       " 'out_prncp_inv',\n",
       " 'total_rec_prncp',\n",
       " 'total_rec_int',\n",
       " 'recoveries',\n",
       " 'last_pymnt_amnt']"
      ]
     },
     "execution_count": 39,
     "metadata": {},
     "output_type": "execute_result"
    }
   ],
   "source": [
    "col"
   ]
  },
  {
   "cell_type": "code",
   "execution_count": 40,
   "id": "e7acbe70",
   "metadata": {},
   "outputs": [],
   "source": [
    "from sklearn.model_selection import train_test_split"
   ]
  },
  {
   "cell_type": "code",
   "execution_count": 41,
   "id": "baf47404",
   "metadata": {},
   "outputs": [
    {
     "data": {
      "text/plain": [
       "((40000, 12), (10001, 12), (40000,), (10001,))"
      ]
     },
     "execution_count": 41,
     "metadata": {},
     "output_type": "execute_result"
    }
   ],
   "source": [
    "xtrain, xtest, ytrain, ytest = train_test_split(final_data, df_woe['good_bad'], test_size = 0.2, random_state = 0)\n",
    "xtrain.shape, xtest.shape, ytrain.shape, ytest.shape"
   ]
  },
  {
   "cell_type": "code",
   "execution_count": 42,
   "id": "32a1ecf3",
   "metadata": {},
   "outputs": [],
   "source": [
    "from sklearn.linear_model import LogisticRegression"
   ]
  },
  {
   "cell_type": "code",
   "execution_count": 43,
   "id": "5abaf0bc",
   "metadata": {},
   "outputs": [
    {
     "data": {
      "text/plain": [
       "LogisticRegression()"
      ]
     },
     "execution_count": 43,
     "metadata": {},
     "output_type": "execute_result"
    }
   ],
   "source": [
    "lr = LogisticRegression()\n",
    "lr.fit(xtrain, ytrain)"
   ]
  },
  {
   "cell_type": "code",
   "execution_count": 44,
   "id": "024d676a",
   "metadata": {},
   "outputs": [],
   "source": [
    "pred_test = lr.predict_proba(xtest)[:,1]"
   ]
  },
  {
   "cell_type": "code",
   "execution_count": 45,
   "id": "afc731e8",
   "metadata": {},
   "outputs": [
    {
     "data": {
      "text/plain": [
       "array([0.00048949, 0.00012038, 0.00043492, ..., 0.00074198, 0.00033525,\n",
       "       0.00027115])"
      ]
     },
     "execution_count": 45,
     "metadata": {},
     "output_type": "execute_result"
    }
   ],
   "source": [
    "pred_test"
   ]
  },
  {
   "cell_type": "code",
   "execution_count": 46,
   "id": "abe8cfa1",
   "metadata": {},
   "outputs": [
    {
     "data": {
      "text/plain": [
       "39178    0\n",
       "14283    0\n",
       "9945     0\n",
       "5554     0\n",
       "7552     0\n",
       "        ..\n",
       "49989    0\n",
       "10027    0\n",
       "46482    0\n",
       "26607    0\n",
       "2217     0\n",
       "Name: good_bad, Length: 10001, dtype: int32"
      ]
     },
     "execution_count": 46,
     "metadata": {},
     "output_type": "execute_result"
    }
   ],
   "source": [
    "ytest"
   ]
  },
  {
   "cell_type": "code",
   "execution_count": 47,
   "id": "849008f9",
   "metadata": {},
   "outputs": [
    {
     "data": {
      "text/plain": [
       "0    0\n",
       "1    0\n",
       "2    0\n",
       "3    0\n",
       "4    0\n",
       "Name: good_bad, dtype: int32"
      ]
     },
     "execution_count": 47,
     "metadata": {},
     "output_type": "execute_result"
    }
   ],
   "source": [
    "ytest.reset_index(drop = True, inplace = True)\n",
    "ytest.head()"
   ]
  },
  {
   "cell_type": "code",
   "execution_count": 48,
   "id": "c70b71a0",
   "metadata": {},
   "outputs": [],
   "source": [
    "df_actual_predicted_probs = pd.concat([ytest, pd.DataFrame(pred_test)], axis = 1)"
   ]
  },
  {
   "cell_type": "code",
   "execution_count": 49,
   "id": "30aeb6f4",
   "metadata": {},
   "outputs": [],
   "source": [
    "df_actual_predicted_probs.columns = ['loan_data_targets_test', 'y_hat_test_proba']"
   ]
  },
  {
   "cell_type": "code",
   "execution_count": 50,
   "id": "38618325",
   "metadata": {},
   "outputs": [
    {
     "data": {
      "text/html": [
       "<div>\n",
       "<style scoped>\n",
       "    .dataframe tbody tr th:only-of-type {\n",
       "        vertical-align: middle;\n",
       "    }\n",
       "\n",
       "    .dataframe tbody tr th {\n",
       "        vertical-align: top;\n",
       "    }\n",
       "\n",
       "    .dataframe thead th {\n",
       "        text-align: right;\n",
       "    }\n",
       "</style>\n",
       "<table border=\"1\" class=\"dataframe\">\n",
       "  <thead>\n",
       "    <tr style=\"text-align: right;\">\n",
       "      <th></th>\n",
       "      <th>loan_data_targets_test</th>\n",
       "      <th>y_hat_test_proba</th>\n",
       "    </tr>\n",
       "  </thead>\n",
       "  <tbody>\n",
       "    <tr>\n",
       "      <th>0</th>\n",
       "      <td>0</td>\n",
       "      <td>0.000489</td>\n",
       "    </tr>\n",
       "    <tr>\n",
       "      <th>1</th>\n",
       "      <td>0</td>\n",
       "      <td>0.000120</td>\n",
       "    </tr>\n",
       "    <tr>\n",
       "      <th>2</th>\n",
       "      <td>0</td>\n",
       "      <td>0.000435</td>\n",
       "    </tr>\n",
       "    <tr>\n",
       "      <th>3</th>\n",
       "      <td>0</td>\n",
       "      <td>0.000159</td>\n",
       "    </tr>\n",
       "    <tr>\n",
       "      <th>4</th>\n",
       "      <td>0</td>\n",
       "      <td>0.000028</td>\n",
       "    </tr>\n",
       "  </tbody>\n",
       "</table>\n",
       "</div>"
      ],
      "text/plain": [
       "   loan_data_targets_test  y_hat_test_proba\n",
       "0                       0          0.000489\n",
       "1                       0          0.000120\n",
       "2                       0          0.000435\n",
       "3                       0          0.000159\n",
       "4                       0          0.000028"
      ]
     },
     "execution_count": 50,
     "metadata": {},
     "output_type": "execute_result"
    }
   ],
   "source": [
    "df_actual_predicted_probs.head()"
   ]
  },
  {
   "cell_type": "code",
   "execution_count": 51,
   "id": "ece7b76b",
   "metadata": {},
   "outputs": [],
   "source": [
    "tr = 0.85\n",
    "# We create a new column with an indicator,\n",
    "# where every observation that has predicted probability greater than the threshold has a value of 1,\n",
    "# and every observation that has predicted probability lower than the threshold has a value of 0.\n",
    "df_actual_predicted_probs['y_hat_test'] = np.where(df_actual_predicted_probs['y_hat_test_proba'] > tr, 1, 0)"
   ]
  },
  {
   "cell_type": "code",
   "execution_count": 52,
   "id": "9e41a0de",
   "metadata": {},
   "outputs": [
    {
     "data": {
      "text/html": [
       "<div>\n",
       "<style scoped>\n",
       "    .dataframe tbody tr th:only-of-type {\n",
       "        vertical-align: middle;\n",
       "    }\n",
       "\n",
       "    .dataframe tbody tr th {\n",
       "        vertical-align: top;\n",
       "    }\n",
       "\n",
       "    .dataframe thead th {\n",
       "        text-align: right;\n",
       "    }\n",
       "</style>\n",
       "<table border=\"1\" class=\"dataframe\">\n",
       "  <thead>\n",
       "    <tr style=\"text-align: right;\">\n",
       "      <th>Predicted</th>\n",
       "      <th>0</th>\n",
       "      <th>1</th>\n",
       "    </tr>\n",
       "    <tr>\n",
       "      <th>Actual</th>\n",
       "      <th></th>\n",
       "      <th></th>\n",
       "    </tr>\n",
       "  </thead>\n",
       "  <tbody>\n",
       "    <tr>\n",
       "      <th>0</th>\n",
       "      <td>8539</td>\n",
       "      <td>0</td>\n",
       "    </tr>\n",
       "    <tr>\n",
       "      <th>1</th>\n",
       "      <td>0</td>\n",
       "      <td>1462</td>\n",
       "    </tr>\n",
       "  </tbody>\n",
       "</table>\n",
       "</div>"
      ],
      "text/plain": [
       "Predicted     0     1\n",
       "Actual               \n",
       "0          8539     0\n",
       "1             0  1462"
      ]
     },
     "execution_count": 52,
     "metadata": {},
     "output_type": "execute_result"
    }
   ],
   "source": [
    "pd.crosstab(df_actual_predicted_probs['loan_data_targets_test'], df_actual_predicted_probs['y_hat_test'], rownames = ['Actual'], colnames = ['Predicted'])"
   ]
  },
  {
   "cell_type": "code",
   "execution_count": 53,
   "id": "f57a8882",
   "metadata": {},
   "outputs": [
    {
     "data": {
      "text/html": [
       "<div>\n",
       "<style scoped>\n",
       "    .dataframe tbody tr th:only-of-type {\n",
       "        vertical-align: middle;\n",
       "    }\n",
       "\n",
       "    .dataframe tbody tr th {\n",
       "        vertical-align: top;\n",
       "    }\n",
       "\n",
       "    .dataframe thead th {\n",
       "        text-align: right;\n",
       "    }\n",
       "</style>\n",
       "<table border=\"1\" class=\"dataframe\">\n",
       "  <thead>\n",
       "    <tr style=\"text-align: right;\">\n",
       "      <th>Predicted</th>\n",
       "      <th>0</th>\n",
       "      <th>1</th>\n",
       "    </tr>\n",
       "    <tr>\n",
       "      <th>Actual</th>\n",
       "      <th></th>\n",
       "      <th></th>\n",
       "    </tr>\n",
       "  </thead>\n",
       "  <tbody>\n",
       "    <tr>\n",
       "      <th>0</th>\n",
       "      <td>0.853815</td>\n",
       "      <td>0.000000</td>\n",
       "    </tr>\n",
       "    <tr>\n",
       "      <th>1</th>\n",
       "      <td>0.000000</td>\n",
       "      <td>0.146185</td>\n",
       "    </tr>\n",
       "  </tbody>\n",
       "</table>\n",
       "</div>"
      ],
      "text/plain": [
       "Predicted         0         1\n",
       "Actual                       \n",
       "0          0.853815  0.000000\n",
       "1          0.000000  0.146185"
      ]
     },
     "execution_count": 53,
     "metadata": {},
     "output_type": "execute_result"
    }
   ],
   "source": [
    "pd.crosstab(df_actual_predicted_probs['loan_data_targets_test'], df_actual_predicted_probs['y_hat_test'], rownames = ['Actual'], colnames = ['Predicted']) / df_actual_predicted_probs.shape[0]\n"
   ]
  },
  {
   "cell_type": "code",
   "execution_count": 54,
   "id": "f99dfc93",
   "metadata": {},
   "outputs": [
    {
     "data": {
      "text/plain": [
       "0.8538146185381462"
      ]
     },
     "execution_count": 54,
     "metadata": {},
     "output_type": "execute_result"
    }
   ],
   "source": [
    "(pd.crosstab(df_actual_predicted_probs['loan_data_targets_test'], df_actual_predicted_probs['y_hat_test'], rownames = ['Actual'], colnames = ['Predicted']) / df_actual_predicted_probs.shape[0]).iloc[0, 0] "
   ]
  },
  {
   "cell_type": "code",
   "execution_count": 55,
   "id": "a2009116",
   "metadata": {},
   "outputs": [],
   "source": [
    "from sklearn.metrics import roc_curve, roc_auc_score"
   ]
  },
  {
   "cell_type": "code",
   "execution_count": 56,
   "id": "998eb309",
   "metadata": {},
   "outputs": [
    {
     "data": {
      "text/plain": [
       "(array([0.        , 0.        , 0.        , ..., 0.99941445, 0.99964867,\n",
       "        1.        ]),\n",
       " array([0.00000000e+00, 6.83994528e-04, 1.36798906e-03, ...,\n",
       "        1.00000000e+00, 1.00000000e+00, 1.00000000e+00]),\n",
       " array([1.99999722e+00, 9.99997215e-01, 9.99997098e-01, ...,\n",
       "        1.42550955e-05, 1.39750089e-05, 1.34919426e-05]))"
      ]
     },
     "execution_count": 56,
     "metadata": {},
     "output_type": "execute_result"
    }
   ],
   "source": [
    "roc_curve(df_actual_predicted_probs['loan_data_targets_test'], df_actual_predicted_probs['y_hat_test_proba'])\n"
   ]
  },
  {
   "cell_type": "code",
   "execution_count": 57,
   "id": "1f3c6664",
   "metadata": {},
   "outputs": [],
   "source": [
    "fpr, tpr, thresholds = roc_curve(df_actual_predicted_probs['loan_data_targets_test'], df_actual_predicted_probs['y_hat_test_proba'])\n"
   ]
  },
  {
   "cell_type": "code",
   "execution_count": 58,
   "id": "478e5ff6",
   "metadata": {},
   "outputs": [],
   "source": [
    "import matplotlib.pyplot as plt\n",
    "import seaborn as sns\n",
    "sns.set()"
   ]
  },
  {
   "cell_type": "code",
   "execution_count": 59,
   "id": "5f1b049c",
   "metadata": {},
   "outputs": [
    {
     "data": {
      "text/plain": [
       "Text(0.5, 1.0, 'ROC curve')"
      ]
     },
     "execution_count": 59,
     "metadata": {},
     "output_type": "execute_result"
    },
    {
     "data": {
      "image/png": "[encoded data removed]",
      "text/plain": [
       "<Figure size 432x288 with 1 Axes>"
      ]
     },
     "metadata": {},
     "output_type": "display_data"
    }
   ],
   "source": [
    "plt.plot(fpr, tpr)\n",
    "# We plot the false positive rate along the x-axis and the true positive rate along the y-axis,\n",
    "# thus plotting the ROC curve.\n",
    "plt.plot(fpr, fpr, linestyle = '--', color = 'k')\n",
    "# We plot a seconary diagonal line, with dashed line style and black color.\n",
    "plt.xlabel('False positive rate')\n",
    "# We name the x-axis \"False positive rate\".\n",
    "plt.ylabel('True positive rate')\n",
    "# We name the x-axis \"True positive rate\".\n",
    "plt.title('ROC curve')\n",
    "# We name the graph \"ROC curve\"."
   ]
  },
  {
   "cell_type": "code",
   "execution_count": 60,
   "id": "1965f636",
   "metadata": {},
   "outputs": [
    {
     "data": {
      "text/plain": [
       "1.0"
      ]
     },
     "execution_count": 60,
     "metadata": {},
     "output_type": "execute_result"
    }
   ],
   "source": [
    "AUROC = roc_auc_score(df_actual_predicted_probs['loan_data_targets_test'], df_actual_predicted_probs['y_hat_test_proba'])\n",
    "# Calculates the Area Under the Receiver Operating Characteristic Curve (AUROC)\n",
    "# from a set of actual values and their predicted probabilities.\n",
    "AUROC"
   ]
  },
  {
   "cell_type": "code",
   "execution_count": 61,
   "id": "464802e5",
   "metadata": {},
   "outputs": [],
   "source": [
    "df_actual_predicted_probs = df_actual_predicted_probs.reset_index()"
   ]
  },
  {
   "cell_type": "code",
   "execution_count": 62,
   "id": "9b8a6ffe",
   "metadata": {},
   "outputs": [
    {
     "data": {
      "text/plain": [
       "Index(['index', 'loan_data_targets_test', 'y_hat_test_proba', 'y_hat_test',\n",
       "       'Cumulative_N_Population', 'Cumulative_N_Good', 'Cumulative_N_Bad'],\n",
       "      dtype='object')"
      ]
     },
     "execution_count": 62,
     "metadata": {},
     "output_type": "execute_result"
    }
   ],
   "source": [
    "df_actual_predicted_probs['Cumulative_N_Population'] = df_actual_predicted_probs.index + 1\n",
    "df_actual_predicted_probs['Cumulative_N_Good'] = df_actual_predicted_probs['loan_data_targets_test'].cumsum()\n",
    "df_actual_predicted_probs['Cumulative_N_Bad'] = df_actual_predicted_probs['Cumulative_N_Population'] - df_actual_predicted_probs['loan_data_targets_test'].cumsum()\n",
    "df_actual_predicted_probs.columns"
   ]
  },
  {
   "cell_type": "code",
   "execution_count": 63,
   "id": "612c5a20",
   "metadata": {},
   "outputs": [
    {
     "data": {
      "text/html": [
       "<div>\n",
       "<style scoped>\n",
       "    .dataframe tbody tr th:only-of-type {\n",
       "        vertical-align: middle;\n",
       "    }\n",
       "\n",
       "    .dataframe tbody tr th {\n",
       "        vertical-align: top;\n",
       "    }\n",
       "\n",
       "    .dataframe thead th {\n",
       "        text-align: right;\n",
       "    }\n",
       "</style>\n",
       "<table border=\"1\" class=\"dataframe\">\n",
       "  <thead>\n",
       "    <tr style=\"text-align: right;\">\n",
       "      <th></th>\n",
       "      <th>index</th>\n",
       "      <th>loan_data_targets_test</th>\n",
       "      <th>y_hat_test_proba</th>\n",
       "      <th>y_hat_test</th>\n",
       "      <th>Cumulative_N_Population</th>\n",
       "      <th>Cumulative_N_Good</th>\n",
       "      <th>Cumulative_N_Bad</th>\n",
       "      <th>Cumulative_Perc_Population</th>\n",
       "      <th>Cumulative_Perc_Good</th>\n",
       "      <th>Cumulative_Perc_Bad</th>\n",
       "    </tr>\n",
       "  </thead>\n",
       "  <tbody>\n",
       "    <tr>\n",
       "      <th>0</th>\n",
       "      <td>0</td>\n",
       "      <td>0</td>\n",
       "      <td>0.000489</td>\n",
       "      <td>0</td>\n",
       "      <td>1</td>\n",
       "      <td>0</td>\n",
       "      <td>1</td>\n",
       "      <td>0.0001</td>\n",
       "      <td>0.0</td>\n",
       "      <td>0.000117</td>\n",
       "    </tr>\n",
       "    <tr>\n",
       "      <th>1</th>\n",
       "      <td>1</td>\n",
       "      <td>0</td>\n",
       "      <td>0.000120</td>\n",
       "      <td>0</td>\n",
       "      <td>2</td>\n",
       "      <td>0</td>\n",
       "      <td>2</td>\n",
       "      <td>0.0002</td>\n",
       "      <td>0.0</td>\n",
       "      <td>0.000234</td>\n",
       "    </tr>\n",
       "    <tr>\n",
       "      <th>2</th>\n",
       "      <td>2</td>\n",
       "      <td>0</td>\n",
       "      <td>0.000435</td>\n",
       "      <td>0</td>\n",
       "      <td>3</td>\n",
       "      <td>0</td>\n",
       "      <td>3</td>\n",
       "      <td>0.0003</td>\n",
       "      <td>0.0</td>\n",
       "      <td>0.000351</td>\n",
       "    </tr>\n",
       "    <tr>\n",
       "      <th>3</th>\n",
       "      <td>3</td>\n",
       "      <td>0</td>\n",
       "      <td>0.000159</td>\n",
       "      <td>0</td>\n",
       "      <td>4</td>\n",
       "      <td>0</td>\n",
       "      <td>4</td>\n",
       "      <td>0.0004</td>\n",
       "      <td>0.0</td>\n",
       "      <td>0.000468</td>\n",
       "    </tr>\n",
       "    <tr>\n",
       "      <th>4</th>\n",
       "      <td>4</td>\n",
       "      <td>0</td>\n",
       "      <td>0.000028</td>\n",
       "      <td>0</td>\n",
       "      <td>5</td>\n",
       "      <td>0</td>\n",
       "      <td>5</td>\n",
       "      <td>0.0005</td>\n",
       "      <td>0.0</td>\n",
       "      <td>0.000586</td>\n",
       "    </tr>\n",
       "  </tbody>\n",
       "</table>\n",
       "</div>"
      ],
      "text/plain": [
       "   index  loan_data_targets_test  y_hat_test_proba  y_hat_test  \\\n",
       "0      0                       0          0.000489           0   \n",
       "1      1                       0          0.000120           0   \n",
       "2      2                       0          0.000435           0   \n",
       "3      3                       0          0.000159           0   \n",
       "4      4                       0          0.000028           0   \n",
       "\n",
       "   Cumulative_N_Population  Cumulative_N_Good  Cumulative_N_Bad  \\\n",
       "0                        1                  0                 1   \n",
       "1                        2                  0                 2   \n",
       "2                        3                  0                 3   \n",
       "3                        4                  0                 4   \n",
       "4                        5                  0                 5   \n",
       "\n",
       "   Cumulative_Perc_Population  Cumulative_Perc_Good  Cumulative_Perc_Bad  \n",
       "0                      0.0001                   0.0             0.000117  \n",
       "1                      0.0002                   0.0             0.000234  \n",
       "2                      0.0003                   0.0             0.000351  \n",
       "3                      0.0004                   0.0             0.000468  \n",
       "4                      0.0005                   0.0             0.000586  "
      ]
     },
     "execution_count": 63,
     "metadata": {},
     "output_type": "execute_result"
    }
   ],
   "source": [
    "df_actual_predicted_probs['Cumulative_Perc_Population'] = df_actual_predicted_probs['Cumulative_N_Population'] / (df_actual_predicted_probs.shape[0])\n",
    "df_actual_predicted_probs['Cumulative_Perc_Good'] = df_actual_predicted_probs['Cumulative_N_Good'] / df_actual_predicted_probs['loan_data_targets_test'].sum()\n",
    "df_actual_predicted_probs['Cumulative_Perc_Bad'] = df_actual_predicted_probs['Cumulative_N_Bad'] / (df_actual_predicted_probs.shape[0] - df_actual_predicted_probs['loan_data_targets_test'].sum())\n",
    "df_actual_predicted_probs.head()"
   ]
  },
  {
   "cell_type": "code",
   "execution_count": 71,
   "id": "fd210984",
   "metadata": {},
   "outputs": [
    {
     "data": {
      "text/plain": [
       "Text(0.5, 1.0, 'Gini')"
      ]
     },
     "execution_count": 71,
     "metadata": {},
     "output_type": "execute_result"
    },
    {
     "data": {
      "image/png": "[encoded data removed]",
      "text/plain": [
       "<Figure size 432x288 with 1 Axes>"
      ]
     },
     "metadata": {},
     "output_type": "display_data"
    }
   ],
   "source": [
    "# Plot Gini\n",
    "#plt.plot(df_actual_predicted_probs['Cumulative_Perc_Population'], df_actual_predicted_probs['Cumulative_Perc_Bad'],linestyle = '-', color = 'r')\n",
    "# We plot the cumulative percentage of all along the x-axis and the cumulative percentage 'good' along the y-axis,\n",
    "# thus plotting the Gini curve.\n",
    "plt.plot(df_actual_predicted_probs['Cumulative_Perc_Population'], df_actual_predicted_probs['Cumulative_Perc_Population'], linestyle = '--', color = 'k')\n",
    "# We plot a seconary diagonal line, with dashed line style and black color.\n",
    "plt.xlabel('Cumulative % Population')\n",
    "# We name the x-axis \"Cumulative % Population\".\n",
    "plt.ylabel('Cumulative % Bad')\n",
    "# We name the y-axis \"Cumulative % Bad\".\n",
    "plt.title('Gini')\n",
    "# We name the graph \"Gini\"."
   ]
  },
  {
   "cell_type": "code",
   "execution_count": 65,
   "id": "6877b604",
   "metadata": {},
   "outputs": [
    {
     "data": {
      "text/plain": [
       "1.0"
      ]
     },
     "execution_count": 65,
     "metadata": {},
     "output_type": "execute_result"
    }
   ],
   "source": [
    "Gini = AUROC * 2 - 1\n",
    "# Here we calculate Gini from AUROC.\n",
    "Gini"
   ]
  },
  {
   "cell_type": "code",
   "execution_count": 66,
   "id": "f40cd2c5",
   "metadata": {},
   "outputs": [
    {
     "data": {
      "text/plain": [
       "0.00831374962772402"
      ]
     },
     "execution_count": 66,
     "metadata": {},
     "output_type": "execute_result"
    }
   ],
   "source": [
    "KS = max(df_actual_predicted_probs['Cumulative_Perc_Bad'] - df_actual_predicted_probs['Cumulative_Perc_Good'])\n",
    "# We calculate KS from the data. It is the maximum of the difference between the cumulative percentage of 'bad'\n",
    "# and the cumulative percentage of 'good'.\n",
    "KS"
   ]
  },
  {
   "cell_type": "code",
   "execution_count": 67,
   "id": "37e3049b",
   "metadata": {},
   "outputs": [],
   "source": [
    "from toad.metrics import KS, AUC"
   ]
  },
  {
   "cell_type": "code",
   "execution_count": 68,
   "id": "c994f22c",
   "metadata": {},
   "outputs": [
    {
     "name": "stdout",
     "output_type": "stream",
     "text": [
      "test KS 1.0\n",
      "test AUC 1.0\n"
     ]
    }
   ],
   "source": [
    "print('test KS',KS(pred_test, ytest))\n",
    "print('test AUC',AUC(pred_test, ytest))"
   ]
  },
  {
   "cell_type": "code",
   "execution_count": 69,
   "id": "f288a7a4",
   "metadata": {},
   "outputs": [
    {
     "data": {
      "text/html": [
       "<div>\n",
       "<style scoped>\n",
       "    .dataframe tbody tr th:only-of-type {\n",
       "        vertical-align: middle;\n",
       "    }\n",
       "\n",
       "    .dataframe tbody tr th {\n",
       "        vertical-align: top;\n",
       "    }\n",
       "\n",
       "    .dataframe thead th {\n",
       "        text-align: right;\n",
       "    }\n",
       "</style>\n",
       "<table border=\"1\" class=\"dataframe\">\n",
       "  <thead>\n",
       "    <tr style=\"text-align: right;\">\n",
       "      <th></th>\n",
       "      <th>min</th>\n",
       "      <th>max</th>\n",
       "      <th>bads</th>\n",
       "      <th>goods</th>\n",
       "      <th>total</th>\n",
       "      <th>bad_rate</th>\n",
       "      <th>good_rate</th>\n",
       "      <th>odds</th>\n",
       "      <th>bad_prop</th>\n",
       "      <th>good_prop</th>\n",
       "      <th>total_prop</th>\n",
       "      <th>cum_bad_rate</th>\n",
       "      <th>cum_bad_rate_rev</th>\n",
       "      <th>cum_bads_prop</th>\n",
       "      <th>cum_bads_prop_rev</th>\n",
       "      <th>cum_goods_prop</th>\n",
       "      <th>cum_goods_prop_rev</th>\n",
       "      <th>cum_total_prop</th>\n",
       "      <th>cum_total_prop_rev</th>\n",
       "      <th>ks</th>\n",
       "      <th>lift</th>\n",
       "      <th>cum_lift</th>\n",
       "    </tr>\n",
       "  </thead>\n",
       "  <tbody>\n",
       "    <tr>\n",
       "      <th>0</th>\n",
       "      <td>0.000013</td>\n",
       "      <td>0.000078</td>\n",
       "      <td>0</td>\n",
       "      <td>998</td>\n",
       "      <td>998</td>\n",
       "      <td>0.000000</td>\n",
       "      <td>1.000000</td>\n",
       "      <td>0.000000</td>\n",
       "      <td>0.000000</td>\n",
       "      <td>0.116876</td>\n",
       "      <td>0.09979</td>\n",
       "      <td>0.000000</td>\n",
       "      <td>0.146185</td>\n",
       "      <td>0.000000</td>\n",
       "      <td>1.000000</td>\n",
       "      <td>0.116876</td>\n",
       "      <td>1.000000</td>\n",
       "      <td>0.09979</td>\n",
       "      <td>1.00000</td>\n",
       "      <td>0.116876</td>\n",
       "      <td>0.000000</td>\n",
       "      <td>1.000000</td>\n",
       "    </tr>\n",
       "    <tr>\n",
       "      <th>1</th>\n",
       "      <td>0.000079</td>\n",
       "      <td>0.000114</td>\n",
       "      <td>0</td>\n",
       "      <td>991</td>\n",
       "      <td>991</td>\n",
       "      <td>0.000000</td>\n",
       "      <td>1.000000</td>\n",
       "      <td>0.000000</td>\n",
       "      <td>0.000000</td>\n",
       "      <td>0.116056</td>\n",
       "      <td>0.09909</td>\n",
       "      <td>0.000000</td>\n",
       "      <td>0.162390</td>\n",
       "      <td>0.000000</td>\n",
       "      <td>1.000000</td>\n",
       "      <td>0.232931</td>\n",
       "      <td>0.883124</td>\n",
       "      <td>0.19888</td>\n",
       "      <td>0.90021</td>\n",
       "      <td>0.232931</td>\n",
       "      <td>0.000000</td>\n",
       "      <td>1.110852</td>\n",
       "    </tr>\n",
       "    <tr>\n",
       "      <th>2</th>\n",
       "      <td>0.000114</td>\n",
       "      <td>0.000161</td>\n",
       "      <td>0</td>\n",
       "      <td>998</td>\n",
       "      <td>998</td>\n",
       "      <td>0.000000</td>\n",
       "      <td>1.000000</td>\n",
       "      <td>0.000000</td>\n",
       "      <td>0.000000</td>\n",
       "      <td>0.116876</td>\n",
       "      <td>0.09979</td>\n",
       "      <td>0.000000</td>\n",
       "      <td>0.182476</td>\n",
       "      <td>0.000000</td>\n",
       "      <td>1.000000</td>\n",
       "      <td>0.349807</td>\n",
       "      <td>0.767069</td>\n",
       "      <td>0.29867</td>\n",
       "      <td>0.80112</td>\n",
       "      <td>0.349807</td>\n",
       "      <td>0.000000</td>\n",
       "      <td>1.248253</td>\n",
       "    </tr>\n",
       "    <tr>\n",
       "      <th>3</th>\n",
       "      <td>0.000161</td>\n",
       "      <td>0.000230</td>\n",
       "      <td>0</td>\n",
       "      <td>1013</td>\n",
       "      <td>1013</td>\n",
       "      <td>0.000000</td>\n",
       "      <td>1.000000</td>\n",
       "      <td>0.000000</td>\n",
       "      <td>0.000000</td>\n",
       "      <td>0.118632</td>\n",
       "      <td>0.10129</td>\n",
       "      <td>0.000000</td>\n",
       "      <td>0.208440</td>\n",
       "      <td>0.000000</td>\n",
       "      <td>1.000000</td>\n",
       "      <td>0.468439</td>\n",
       "      <td>0.650193</td>\n",
       "      <td>0.39996</td>\n",
       "      <td>0.70133</td>\n",
       "      <td>0.468439</td>\n",
       "      <td>0.000000</td>\n",
       "      <td>1.425863</td>\n",
       "    </tr>\n",
       "    <tr>\n",
       "      <th>4</th>\n",
       "      <td>0.000231</td>\n",
       "      <td>0.000299</td>\n",
       "      <td>0</td>\n",
       "      <td>1000</td>\n",
       "      <td>1000</td>\n",
       "      <td>0.000000</td>\n",
       "      <td>1.000000</td>\n",
       "      <td>0.000000</td>\n",
       "      <td>0.000000</td>\n",
       "      <td>0.117110</td>\n",
       "      <td>0.09999</td>\n",
       "      <td>0.000000</td>\n",
       "      <td>0.243626</td>\n",
       "      <td>0.000000</td>\n",
       "      <td>1.000000</td>\n",
       "      <td>0.585549</td>\n",
       "      <td>0.531561</td>\n",
       "      <td>0.49995</td>\n",
       "      <td>0.60004</td>\n",
       "      <td>0.585549</td>\n",
       "      <td>0.000000</td>\n",
       "      <td>1.666556</td>\n",
       "    </tr>\n",
       "    <tr>\n",
       "      <th>5</th>\n",
       "      <td>0.000299</td>\n",
       "      <td>0.000395</td>\n",
       "      <td>0</td>\n",
       "      <td>1001</td>\n",
       "      <td>1001</td>\n",
       "      <td>0.000000</td>\n",
       "      <td>1.000000</td>\n",
       "      <td>0.000000</td>\n",
       "      <td>0.000000</td>\n",
       "      <td>0.117227</td>\n",
       "      <td>0.10009</td>\n",
       "      <td>0.000000</td>\n",
       "      <td>0.292342</td>\n",
       "      <td>0.000000</td>\n",
       "      <td>1.000000</td>\n",
       "      <td>0.702776</td>\n",
       "      <td>0.414451</td>\n",
       "      <td>0.60004</td>\n",
       "      <td>0.50005</td>\n",
       "      <td>0.702776</td>\n",
       "      <td>0.000000</td>\n",
       "      <td>1.999800</td>\n",
       "    </tr>\n",
       "    <tr>\n",
       "      <th>6</th>\n",
       "      <td>0.000395</td>\n",
       "      <td>0.000556</td>\n",
       "      <td>0</td>\n",
       "      <td>1000</td>\n",
       "      <td>1000</td>\n",
       "      <td>0.000000</td>\n",
       "      <td>1.000000</td>\n",
       "      <td>0.000000</td>\n",
       "      <td>0.000000</td>\n",
       "      <td>0.117110</td>\n",
       "      <td>0.09999</td>\n",
       "      <td>0.000000</td>\n",
       "      <td>0.365500</td>\n",
       "      <td>0.000000</td>\n",
       "      <td>1.000000</td>\n",
       "      <td>0.819885</td>\n",
       "      <td>0.297224</td>\n",
       "      <td>0.70003</td>\n",
       "      <td>0.39996</td>\n",
       "      <td>0.819885</td>\n",
       "      <td>0.000000</td>\n",
       "      <td>2.500250</td>\n",
       "    </tr>\n",
       "    <tr>\n",
       "      <th>7</th>\n",
       "      <td>0.000556</td>\n",
       "      <td>0.000961</td>\n",
       "      <td>0</td>\n",
       "      <td>998</td>\n",
       "      <td>998</td>\n",
       "      <td>0.000000</td>\n",
       "      <td>1.000000</td>\n",
       "      <td>0.000000</td>\n",
       "      <td>0.000000</td>\n",
       "      <td>0.116876</td>\n",
       "      <td>0.09979</td>\n",
       "      <td>0.000000</td>\n",
       "      <td>0.487333</td>\n",
       "      <td>0.000000</td>\n",
       "      <td>1.000000</td>\n",
       "      <td>0.936761</td>\n",
       "      <td>0.180115</td>\n",
       "      <td>0.79982</td>\n",
       "      <td>0.29997</td>\n",
       "      <td>0.936761</td>\n",
       "      <td>0.000000</td>\n",
       "      <td>3.333667</td>\n",
       "    </tr>\n",
       "    <tr>\n",
       "      <th>8</th>\n",
       "      <td>0.000962</td>\n",
       "      <td>0.999923</td>\n",
       "      <td>461</td>\n",
       "      <td>540</td>\n",
       "      <td>1001</td>\n",
       "      <td>0.460539</td>\n",
       "      <td>0.539461</td>\n",
       "      <td>0.853704</td>\n",
       "      <td>0.315321</td>\n",
       "      <td>0.063239</td>\n",
       "      <td>0.10009</td>\n",
       "      <td>0.051222</td>\n",
       "      <td>0.730270</td>\n",
       "      <td>0.315321</td>\n",
       "      <td>1.000000</td>\n",
       "      <td>1.000000</td>\n",
       "      <td>0.063239</td>\n",
       "      <td>0.89991</td>\n",
       "      <td>0.20018</td>\n",
       "      <td>0.684679</td>\n",
       "      <td>3.150380</td>\n",
       "      <td>4.995504</td>\n",
       "    </tr>\n",
       "    <tr>\n",
       "      <th>9</th>\n",
       "      <td>0.999928</td>\n",
       "      <td>0.999997</td>\n",
       "      <td>1001</td>\n",
       "      <td>0</td>\n",
       "      <td>1001</td>\n",
       "      <td>1.000000</td>\n",
       "      <td>0.000000</td>\n",
       "      <td>inf</td>\n",
       "      <td>0.684679</td>\n",
       "      <td>0.000000</td>\n",
       "      <td>0.10009</td>\n",
       "      <td>0.146185</td>\n",
       "      <td>1.000000</td>\n",
       "      <td>1.000000</td>\n",
       "      <td>0.684679</td>\n",
       "      <td>1.000000</td>\n",
       "      <td>0.000000</td>\n",
       "      <td>1.00000</td>\n",
       "      <td>0.10009</td>\n",
       "      <td>-0.000000</td>\n",
       "      <td>6.840629</td>\n",
       "      <td>6.840629</td>\n",
       "    </tr>\n",
       "  </tbody>\n",
       "</table>\n",
       "</div>"
      ],
      "text/plain": [
       "        min       max  bads  goods  total  bad_rate  good_rate      odds  \\\n",
       "0  0.000013  0.000078     0    998    998  0.000000   1.000000  0.000000   \n",
       "1  0.000079  0.000114     0    991    991  0.000000   1.000000  0.000000   \n",
       "2  0.000114  0.000161     0    998    998  0.000000   1.000000  0.000000   \n",
       "3  0.000161  0.000230     0   1013   1013  0.000000   1.000000  0.000000   \n",
       "4  0.000231  0.000299     0   1000   1000  0.000000   1.000000  0.000000   \n",
       "5  0.000299  0.000395     0   1001   1001  0.000000   1.000000  0.000000   \n",
       "6  0.000395  0.000556     0   1000   1000  0.000000   1.000000  0.000000   \n",
       "7  0.000556  0.000961     0    998    998  0.000000   1.000000  0.000000   \n",
       "8  0.000962  0.999923   461    540   1001  0.460539   0.539461  0.853704   \n",
       "9  0.999928  0.999997  1001      0   1001  1.000000   0.000000       inf   \n",
       "\n",
       "   bad_prop  good_prop  total_prop  cum_bad_rate  cum_bad_rate_rev  \\\n",
       "0  0.000000   0.116876     0.09979      0.000000          0.146185   \n",
       "1  0.000000   0.116056     0.09909      0.000000          0.162390   \n",
       "2  0.000000   0.116876     0.09979      0.000000          0.182476   \n",
       "3  0.000000   0.118632     0.10129      0.000000          0.208440   \n",
       "4  0.000000   0.117110     0.09999      0.000000          0.243626   \n",
       "5  0.000000   0.117227     0.10009      0.000000          0.292342   \n",
       "6  0.000000   0.117110     0.09999      0.000000          0.365500   \n",
       "7  0.000000   0.116876     0.09979      0.000000          0.487333   \n",
       "8  0.315321   0.063239     0.10009      0.051222          0.730270   \n",
       "9  0.684679   0.000000     0.10009      0.146185          1.000000   \n",
       "\n",
       "   cum_bads_prop  cum_bads_prop_rev  cum_goods_prop  cum_goods_prop_rev  \\\n",
       "0       0.000000           1.000000        0.116876            1.000000   \n",
       "1       0.000000           1.000000        0.232931            0.883124   \n",
       "2       0.000000           1.000000        0.349807            0.767069   \n",
       "3       0.000000           1.000000        0.468439            0.650193   \n",
       "4       0.000000           1.000000        0.585549            0.531561   \n",
       "5       0.000000           1.000000        0.702776            0.414451   \n",
       "6       0.000000           1.000000        0.819885            0.297224   \n",
       "7       0.000000           1.000000        0.936761            0.180115   \n",
       "8       0.315321           1.000000        1.000000            0.063239   \n",
       "9       1.000000           0.684679        1.000000            0.000000   \n",
       "\n",
       "   cum_total_prop  cum_total_prop_rev        ks      lift  cum_lift  \n",
       "0         0.09979             1.00000  0.116876  0.000000  1.000000  \n",
       "1         0.19888             0.90021  0.232931  0.000000  1.110852  \n",
       "2         0.29867             0.80112  0.349807  0.000000  1.248253  \n",
       "3         0.39996             0.70133  0.468439  0.000000  1.425863  \n",
       "4         0.49995             0.60004  0.585549  0.000000  1.666556  \n",
       "5         0.60004             0.50005  0.702776  0.000000  1.999800  \n",
       "6         0.70003             0.39996  0.819885  0.000000  2.500250  \n",
       "7         0.79982             0.29997  0.936761  0.000000  3.333667  \n",
       "8         0.89991             0.20018  0.684679  3.150380  4.995504  \n",
       "9         1.00000             0.10009 -0.000000  6.840629  6.840629  "
      ]
     },
     "execution_count": 69,
     "metadata": {},
     "output_type": "execute_result"
    }
   ],
   "source": [
    "# Group the predicted scores in bins with same number of samples in each (i.e. \"quantile\" binning)\n",
    "toad.metrics.KS_bucket(pred_test, ytest, bucket=10, method = 'quantile')"
   ]
  },
  {
   "cell_type": "code",
   "execution_count": 76,
   "id": "4788f770",
   "metadata": {},
   "outputs": [
    {
     "data": {
      "text/plain": [
       "38608    1\n",
       "21813    1\n",
       "28448    0\n",
       "34808    0\n",
       "20421    0\n",
       "        ..\n",
       "21243    0\n",
       "45891    0\n",
       "42613    0\n",
       "43567    0\n",
       "2732     0\n",
       "Name: good_bad, Length: 40000, dtype: int32"
      ]
     },
     "execution_count": 76,
     "metadata": {},
     "output_type": "execute_result"
    }
   ],
   "source": [
    "ytrain"
   ]
  },
  {
   "cell_type": "code",
   "execution_count": 70,
   "id": "fc8cccbd",
   "metadata": {},
   "outputs": [],
   "source": [
    "card = toad.ScoreCard(\n",
    "    combiner = c,\n",
    "    transer = transer,\n",
    "    #class_weight = 'balanced',\n",
    "    #C=0.1,\n",
    "    #base_score = 600,\n",
    "    #base_odds = 35 ,\n",
    "    #pdo = 60,\n",
    "    #rate = 2\n",
    ")"
   ]
  },
  {
   "cell_type": "code",
   "execution_count": 77,
   "id": "524ee1e7",
   "metadata": {},
   "outputs": [
    {
     "data": {
      "text/plain": [
       "ScoreCard(combiner=<toad.transform.Combiner object at 0x000002CD32572C40>,\n",
       "          transer=<toad.transform.WOETransformer object at 0x000002CD3EA9FA00>)"
      ]
     },
     "execution_count": 77,
     "metadata": {},
     "output_type": "execute_result"
    }
   ],
   "source": [
    "card.fit(final_data[col], final_data['good_bad'])"
   ]
  },
  {
   "cell_type": "code",
   "execution_count": 78,
   "id": "75677fb4",
   "metadata": {},
   "outputs": [
    {
     "data": {
      "text/plain": [
       "{'term': {' 36 months': 91.03, ' 60 months': -37.55},\n",
       " 'int_rate': {'[-inf ~ 8.49)': 136.61,\n",
       "  '[8.49 ~ 9.76)': 96.89,\n",
       "  '[9.76 ~ 11.22)': 73.89,\n",
       "  '[11.22 ~ 13.99)': 49.13,\n",
       "  '[13.99 ~ 16.29)': 28.13,\n",
       "  '[16.29 ~ inf)': -1.18},\n",
       " 'grade': {'A': 30.17, 'B': 45.61, 'C': 53.33, 'D': 60.3, 'E,F,G': 67.48},\n",
       " 'issue_d': {'Dec-13,Mar-10,Dec-09,Feb-10,Apr-10,Jul-07,Aug-09': 31.72,\n",
       "  'Aug-08,Dec-10,Jun-07,Mar-09,Sep-09,Feb-11,Jul-10,Jan-11,Feb-09,Jan-10,Aug-11,Jul-09,Apr-11,May-09,Jun-09,Nov-10,Mar-11,May-10,Oct-11,Jun-11,Aug-10,Nov-09,Apr-09,Jul-11,Sep-11,Nov-11,Jan-09,Oct-10,Dec-08': 50.65,\n",
       "  'Oct-09,May-11,Oct-08,Sep-10,Sep-08,Jun-10,Jun-08,Dec-11,Nov-08,Feb-08,Jul-08,May-08,Mar-08,Apr-08,Sep-07,Aug-07,Dec-07,Jan-08,Nov-07,Oct-07': 69.58},\n",
       " 'inq_last_6mths': {'[-inf ~ 1.0)': 67.08,\n",
       "  '[1.0 ~ 3.0)': 46.8,\n",
       "  '[3.0 ~ inf)': 17.35},\n",
       " 'revol_util': {'[-inf ~ 27.7)': 67.15,\n",
       "  '[27.7 ~ 70.8)': 52.36,\n",
       "  '[70.8 ~ inf)': 37.59},\n",
       " 'out_prncp_inv': {'[-inf ~ 7.04)': 38.32, '[7.04 ~ inf)': 218.94},\n",
       " 'total_rec_prncp': {'[-inf ~ 2997.84)': -128.69,\n",
       "  '[2997.84 ~ 4999.95)': 18.24,\n",
       "  '[4999.95 ~ 9994.03)': 100.47,\n",
       "  '[9994.03 ~ inf)': 215.6},\n",
       " 'total_rec_int': {'[-inf ~ 450.18)': 112.69, '[450.18 ~ inf)': 38.82},\n",
       " 'recoveries': {'[-inf ~ 0.25)': 172.69, '[0.25 ~ inf)': -1006.05},\n",
       " 'last_pymnt_amnt': {'[-inf ~ 201.28)': -0.07,\n",
       "  '[201.28 ~ 961.58)': 22.77,\n",
       "  '[961.58 ~ 12820.32)': 226.76,\n",
       "  '[12820.32 ~ inf)': 443.01}}"
      ]
     },
     "execution_count": 78,
     "metadata": {},
     "output_type": "execute_result"
    }
   ],
   "source": [
    "# Output standard scorecard\n",
    "card.export()"
   ]
  },
  {
   "cell_type": "code",
   "execution_count": null,
   "id": "8b19e7ce",
   "metadata": {},
   "outputs": [],
   "source": []
  }
 ],
 "metadata": {
  "kernelspec": {
   "display_name": "Python 3",
   "language": "python",
   "name": "python3"
  },
  "language_info": {
   "codemirror_mode": {
    "name": "ipython",
    "version": 3
   },
   "file_extension": ".py",
   "mimetype": "text/x-python",
   "name": "python",
   "nbconvert_exporter": "python",
   "pygments_lexer": "ipython3",
   "version": "3.8.8"
  }
 },
 "nbformat": 4,
 "nbformat_minor": 5
}
